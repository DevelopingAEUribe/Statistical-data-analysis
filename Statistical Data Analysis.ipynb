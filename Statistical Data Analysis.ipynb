{
 "cells": [
  {
   "cell_type": "markdown",
   "metadata": {},
   "source": [
    "# Which one is a better plan?\n",
    "\n",
    "You work as an analyst for the telecom operator Megaline. The company offers its clients two prepaid plans, Surf and Ultimate. The commercial department wants to know which of the plans brings in more revenue in order to adjust the advertising budget.\n",
    "\n",
    "You are going to carry out a preliminary analysis of the plans based on a relatively small client selection. You'll have the data on 500 Megaline clients: who the clients are, where they're from, which plan they use, and the number of calls they made and text messages they sent in 2018. Your job is to analyze the clients' behavior and determine which prepaid plan brings in more revenue."
   ]
  },
  {
   "cell_type": "markdown",
   "metadata": {},
   "source": [
    "# 📊 Megaline Telecom Plan Revenue Analysis\n",
    "\n",
    "## Overview\n",
    "\n",
    "This project involves an in-depth analysis for **Megaline**, a telecom provider offering two prepaid plans: **Surf** and **Ultimate**. The goal is to identify which plan generates more revenue by analyzing customer behavior from a dataset of 500 users.\n",
    "\n",
    "This insight helps Megaline's commercial department optimize marketing spend and adjust advertising efforts.\n",
    "\n",
    "---"
   ]
  },
  {
   "cell_type": "markdown",
   "metadata": {},
   "source": [
    "## Initialization"
   ]
  },
  {
   "cell_type": "markdown",
   "metadata": {},
   "source": []
  },
  {
   "cell_type": "code",
   "execution_count": 42,
   "metadata": {
    "trusted": true
   },
   "outputs": [],
   "source": [
    "# Loading all the libraries\n",
    "import pandas as pd\n",
    "import numpy as np\n",
    "import matplotlib.pyplot as plt\n",
    "import seaborn as sns\n",
    "from scipy import stats\n"
   ]
  },
  {
   "cell_type": "markdown",
   "metadata": {},
   "source": [
    "## Load data"
   ]
  },
  {
   "cell_type": "markdown",
   "metadata": {},
   "source": []
  },
  {
   "cell_type": "code",
   "execution_count": 43,
   "metadata": {
    "trusted": true
   },
   "outputs": [],
   "source": [
    "# Load the data files into different DataFrames\n",
    "\n",
    "users = pd.read_csv('/datasets/megaline_users.csv')\n",
    "calls = pd.read_csv('/datasets/megaline_calls.csv')\n",
    "messages = pd.read_csv('/datasets/megaline_messages.csv')\n",
    "internet = pd.read_csv('/datasets/megaline_internet.csv')\n",
    "plans = pd.read_csv('/datasets/megaline_plans.csv')\n"
   ]
  },
  {
   "cell_type": "markdown",
   "metadata": {},
   "source": [
    "## Prepare the data"
   ]
  },
  {
   "cell_type": "markdown",
   "metadata": {},
   "source": [
    "[The data for this project is split into several tables. Explore each one to get an initial understanding of the data. Do necessary corrections to each table if necessary.]"
   ]
  },
  {
   "cell_type": "markdown",
   "metadata": {},
   "source": [
    "## Plans"
   ]
  },
  {
   "cell_type": "code",
   "execution_count": 44,
   "metadata": {
    "trusted": true
   },
   "outputs": [
    {
     "name": "stdout",
     "output_type": "stream",
     "text": [
      "<class 'pandas.core.frame.DataFrame'>\n",
      "RangeIndex: 2 entries, 0 to 1\n",
      "Data columns (total 8 columns):\n",
      " #   Column                 Non-Null Count  Dtype  \n",
      "---  ------                 --------------  -----  \n",
      " 0   messages_included      2 non-null      int64  \n",
      " 1   mb_per_month_included  2 non-null      int64  \n",
      " 2   minutes_included       2 non-null      int64  \n",
      " 3   usd_monthly_pay        2 non-null      int64  \n",
      " 4   usd_per_gb             2 non-null      int64  \n",
      " 5   usd_per_message        2 non-null      float64\n",
      " 6   usd_per_minute         2 non-null      float64\n",
      " 7   plan_name              2 non-null      object \n",
      "dtypes: float64(2), int64(5), object(1)\n",
      "memory usage: 256.0+ bytes\n"
     ]
    }
   ],
   "source": [
    "# Print the general/summary information about the plans' DataFrame\n",
    "plans.info()\n",
    "\n"
   ]
  },
  {
   "cell_type": "code",
   "execution_count": 45,
   "metadata": {
    "trusted": true
   },
   "outputs": [
    {
     "data": {
      "text/html": [
       "<div>\n",
       "<style scoped>\n",
       "    .dataframe tbody tr th:only-of-type {\n",
       "        vertical-align: middle;\n",
       "    }\n",
       "\n",
       "    .dataframe tbody tr th {\n",
       "        vertical-align: top;\n",
       "    }\n",
       "\n",
       "    .dataframe thead th {\n",
       "        text-align: right;\n",
       "    }\n",
       "</style>\n",
       "<table border=\"1\" class=\"dataframe\">\n",
       "  <thead>\n",
       "    <tr style=\"text-align: right;\">\n",
       "      <th></th>\n",
       "      <th>messages_included</th>\n",
       "      <th>mb_per_month_included</th>\n",
       "      <th>minutes_included</th>\n",
       "      <th>usd_monthly_pay</th>\n",
       "      <th>usd_per_gb</th>\n",
       "      <th>usd_per_message</th>\n",
       "      <th>usd_per_minute</th>\n",
       "      <th>plan_name</th>\n",
       "    </tr>\n",
       "  </thead>\n",
       "  <tbody>\n",
       "    <tr>\n",
       "      <th>0</th>\n",
       "      <td>50</td>\n",
       "      <td>15360</td>\n",
       "      <td>500</td>\n",
       "      <td>20</td>\n",
       "      <td>10</td>\n",
       "      <td>0.03</td>\n",
       "      <td>0.03</td>\n",
       "      <td>surf</td>\n",
       "    </tr>\n",
       "    <tr>\n",
       "      <th>1</th>\n",
       "      <td>1000</td>\n",
       "      <td>30720</td>\n",
       "      <td>3000</td>\n",
       "      <td>70</td>\n",
       "      <td>7</td>\n",
       "      <td>0.01</td>\n",
       "      <td>0.01</td>\n",
       "      <td>ultimate</td>\n",
       "    </tr>\n",
       "  </tbody>\n",
       "</table>\n",
       "</div>"
      ],
      "text/plain": [
       "   messages_included  mb_per_month_included  minutes_included  \\\n",
       "0                 50                  15360               500   \n",
       "1               1000                  30720              3000   \n",
       "\n",
       "   usd_monthly_pay  usd_per_gb  usd_per_message  usd_per_minute plan_name  \n",
       "0               20          10             0.03            0.03      surf  \n",
       "1               70           7             0.01            0.01  ultimate  "
      ]
     },
     "execution_count": 45,
     "metadata": {},
     "output_type": "execute_result"
    }
   ],
   "source": [
    "# Print a sample of data for plans\n",
    "plans.head()\n",
    "\n"
   ]
  },
  {
   "cell_type": "markdown",
   "metadata": {},
   "source": [
    "[Describe what you see and notice in the general information and the printed data sample for the above price of data. Are there any issues (inappropriate data types, missing data etc) that may need further investigation and changes? How that can be fixed?]"
   ]
  },
  {
   "cell_type": "markdown",
   "metadata": {},
   "source": [
    " "
   ]
  },
  {
   "cell_type": "markdown",
   "metadata": {},
   "source": [
    "## Fix data"
   ]
  },
  {
   "cell_type": "markdown",
   "metadata": {},
   "source": [
    "[Fix obvious issues with the data given the initial observations.]"
   ]
  },
  {
   "cell_type": "code",
   "execution_count": 46,
   "metadata": {
    "trusted": true
   },
   "outputs": [
    {
     "name": "stdout",
     "output_type": "stream",
     "text": [
      "user_id                int64\n",
      "first_name            object\n",
      "last_name             object\n",
      "age                    int64\n",
      "city                  object\n",
      "reg_date      datetime64[ns]\n",
      "plan                  object\n",
      "churn_date    datetime64[ns]\n",
      "dtype: object\n",
      "id                   object\n",
      "user_id               int64\n",
      "call_date    datetime64[ns]\n",
      "duration              int64\n",
      "dtype: object\n",
      "id                      object\n",
      "user_id                  int64\n",
      "message_date    datetime64[ns]\n",
      "dtype: object\n",
      "id                      object\n",
      "user_id                  int64\n",
      "session_date    datetime64[ns]\n",
      "mb_used                float64\n",
      "dtype: object\n"
     ]
    }
   ],
   "source": [
    "# Fix date formats in all relevant tables\n",
    "users['reg_date'] = pd.to_datetime(users['reg_date'])\n",
    "users['churn_date'] = pd.to_datetime(users['churn_date'])\n",
    "\n",
    "calls['call_date'] = pd.to_datetime(calls['call_date'])\n",
    "messages['message_date'] = pd.to_datetime(messages['message_date'])\n",
    "internet['session_date'] = pd.to_datetime(internet['session_date'])\n",
    "\n",
    "# Round call durations up to the next minute, as per billing policy\n",
    "calls['duration'] = np.ceil(calls['duration']).astype(int)\n",
    "\n",
    "# Confirm changes\n",
    "print(users.dtypes)\n",
    "print(calls.dtypes)\n",
    "print(messages.dtypes)\n",
    "print(internet.dtypes)"
   ]
  },
  {
   "cell_type": "markdown",
   "metadata": {},
   "source": [
    "## Enrich data"
   ]
  },
  {
   "cell_type": "markdown",
   "metadata": {},
   "source": [
    "[Add additional factors to the data if you believe they might be useful.]"
   ]
  },
  {
   "cell_type": "code",
   "execution_count": 47,
   "metadata": {
    "trusted": true
   },
   "outputs": [
    {
     "data": {
      "text/html": [
       "<div>\n",
       "<style scoped>\n",
       "    .dataframe tbody tr th:only-of-type {\n",
       "        vertical-align: middle;\n",
       "    }\n",
       "\n",
       "    .dataframe tbody tr th {\n",
       "        vertical-align: top;\n",
       "    }\n",
       "\n",
       "    .dataframe thead th {\n",
       "        text-align: right;\n",
       "    }\n",
       "</style>\n",
       "<table border=\"1\" class=\"dataframe\">\n",
       "  <thead>\n",
       "    <tr style=\"text-align: right;\">\n",
       "      <th></th>\n",
       "      <th>user_id</th>\n",
       "      <th>month</th>\n",
       "      <th>minutes_used</th>\n",
       "      <th>messages_sent</th>\n",
       "      <th>gb_used</th>\n",
       "      <th>plan</th>\n",
       "    </tr>\n",
       "  </thead>\n",
       "  <tbody>\n",
       "    <tr>\n",
       "      <th>0</th>\n",
       "      <td>1000</td>\n",
       "      <td>12</td>\n",
       "      <td>124.0</td>\n",
       "      <td>11.0</td>\n",
       "      <td>2.0</td>\n",
       "      <td>ultimate</td>\n",
       "    </tr>\n",
       "    <tr>\n",
       "      <th>1</th>\n",
       "      <td>1001</td>\n",
       "      <td>8</td>\n",
       "      <td>182.0</td>\n",
       "      <td>30.0</td>\n",
       "      <td>7.0</td>\n",
       "      <td>surf</td>\n",
       "    </tr>\n",
       "    <tr>\n",
       "      <th>2</th>\n",
       "      <td>1001</td>\n",
       "      <td>9</td>\n",
       "      <td>315.0</td>\n",
       "      <td>44.0</td>\n",
       "      <td>14.0</td>\n",
       "      <td>surf</td>\n",
       "    </tr>\n",
       "    <tr>\n",
       "      <th>3</th>\n",
       "      <td>1001</td>\n",
       "      <td>10</td>\n",
       "      <td>393.0</td>\n",
       "      <td>53.0</td>\n",
       "      <td>22.0</td>\n",
       "      <td>surf</td>\n",
       "    </tr>\n",
       "    <tr>\n",
       "      <th>4</th>\n",
       "      <td>1001</td>\n",
       "      <td>11</td>\n",
       "      <td>426.0</td>\n",
       "      <td>36.0</td>\n",
       "      <td>19.0</td>\n",
       "      <td>surf</td>\n",
       "    </tr>\n",
       "  </tbody>\n",
       "</table>\n",
       "</div>"
      ],
      "text/plain": [
       "   user_id  month  minutes_used  messages_sent  gb_used      plan\n",
       "0     1000     12         124.0           11.0      2.0  ultimate\n",
       "1     1001      8         182.0           30.0      7.0      surf\n",
       "2     1001      9         315.0           44.0     14.0      surf\n",
       "3     1001     10         393.0           53.0     22.0      surf\n",
       "4     1001     11         426.0           36.0     19.0      surf"
      ]
     },
     "execution_count": 47,
     "metadata": {},
     "output_type": "execute_result"
    }
   ],
   "source": [
    "# Add a 'month' column to each dataset for grouping\n",
    "calls['month'] = calls['call_date'].dt.month\n",
    "messages['month'] = messages['message_date'].dt.month\n",
    "internet['month'] = internet['session_date'].dt.month\n",
    "\n",
    "# Group data by user_id and month\n",
    "monthly_calls = calls.groupby(['user_id', 'month'])['duration'].sum().reset_index()\n",
    "monthly_calls.rename(columns={'duration': 'minutes_used'}, inplace=True)\n",
    "\n",
    "monthly_messages = messages.groupby(['user_id', 'month'])['id'].count().reset_index()\n",
    "monthly_messages.rename(columns={'id': 'messages_sent'}, inplace=True)\n",
    "\n",
    "monthly_internet = internet.groupby(['user_id', 'month'])['mb_used'].sum().reset_index()\n",
    "monthly_internet.rename(columns={'mb_used': 'mb_used_total'}, inplace=True)\n",
    "\n",
    "# Convert MB to GB and round up (Megaline charges per GB, rounding total)\n",
    "monthly_internet['gb_used'] = np.ceil(monthly_internet['mb_used_total'] / 1024).astype(int)\n",
    "\n",
    "# Merge all monthly usage data into a single DataFrame\n",
    "monthly_usage = monthly_calls.merge(monthly_messages, on=['user_id', 'month'], how='outer')\n",
    "monthly_usage = monthly_usage.merge(monthly_internet[['user_id', 'month', 'gb_used']], on=['user_id', 'month'], how='outer')\n",
    "\n",
    "# Fill missing values with 0 (means user had no activity in that category for that month)\n",
    "monthly_usage = monthly_usage.fillna(0)\n",
    "\n",
    "# Merge with user data to include plan information\n",
    "monthly_usage = monthly_usage.merge(users[['user_id', 'plan']], on='user_id', how='left')\n",
    "\n",
    "# Check result\n",
    "monthly_usage.head()"
   ]
  },
  {
   "cell_type": "markdown",
   "metadata": {},
   "source": [
    "## Users"
   ]
  },
  {
   "cell_type": "code",
   "execution_count": 48,
   "metadata": {
    "trusted": true
   },
   "outputs": [
    {
     "name": "stdout",
     "output_type": "stream",
     "text": [
      "<class 'pandas.core.frame.DataFrame'>\n",
      "RangeIndex: 500 entries, 0 to 499\n",
      "Data columns (total 8 columns):\n",
      " #   Column      Non-Null Count  Dtype         \n",
      "---  ------      --------------  -----         \n",
      " 0   user_id     500 non-null    int64         \n",
      " 1   first_name  500 non-null    object        \n",
      " 2   last_name   500 non-null    object        \n",
      " 3   age         500 non-null    int64         \n",
      " 4   city        500 non-null    object        \n",
      " 5   reg_date    500 non-null    datetime64[ns]\n",
      " 6   plan        500 non-null    object        \n",
      " 7   churn_date  34 non-null     datetime64[ns]\n",
      "dtypes: datetime64[ns](2), int64(2), object(4)\n",
      "memory usage: 31.4+ KB\n"
     ]
    }
   ],
   "source": [
    "# Print the general/summary information about the users' DataFrame\n",
    "\n",
    "users.info()\n"
   ]
  },
  {
   "cell_type": "code",
   "execution_count": 49,
   "metadata": {
    "trusted": true
   },
   "outputs": [
    {
     "data": {
      "text/plain": [
       "user_id         0\n",
       "first_name      0\n",
       "last_name       0\n",
       "age             0\n",
       "city            0\n",
       "reg_date        0\n",
       "plan            0\n",
       "churn_date    466\n",
       "dtype: int64"
      ]
     },
     "execution_count": 49,
     "metadata": {},
     "output_type": "execute_result"
    }
   ],
   "source": [
    "# Print a sample of data for users\n",
    "\n",
    "users.sample(5)\n",
    "\n",
    "# Check for missing values\n",
    "users.isna().sum()\n"
   ]
  },
  {
   "cell_type": "markdown",
   "metadata": {},
   "source": [
    "[Describe what you see and notice in the general information and the printed data sample for the above price of data. Are there any issues (inappropriate data types, missing data etc) that may need further investigation and changes? How that can be fixed?]"
   ]
  },
  {
   "cell_type": "markdown",
   "metadata": {},
   "source": [
    " "
   ]
  },
  {
   "cell_type": "markdown",
   "metadata": {},
   "source": [
    "### Fix Data"
   ]
  },
  {
   "cell_type": "markdown",
   "metadata": {},
   "source": [
    "[Fix obvious issues with the data given the initial observations.]"
   ]
  },
  {
   "cell_type": "code",
   "execution_count": 50,
   "metadata": {
    "trusted": true
   },
   "outputs": [],
   "source": [
    "users['reg_date'] = pd.to_datetime(users['reg_date'])\n",
    "users['churn_date'] = pd.to_datetime(users['churn_date'])"
   ]
  },
  {
   "cell_type": "markdown",
   "metadata": {},
   "source": [
    "### Enrich Data"
   ]
  },
  {
   "cell_type": "markdown",
   "metadata": {},
   "source": [
    "[Add additional factors to the data if you believe they might be useful.]"
   ]
  },
  {
   "cell_type": "code",
   "execution_count": 51,
   "metadata": {
    "trusted": true
   },
   "outputs": [
    {
     "data": {
      "text/html": [
       "<div>\n",
       "<style scoped>\n",
       "    .dataframe tbody tr th:only-of-type {\n",
       "        vertical-align: middle;\n",
       "    }\n",
       "\n",
       "    .dataframe tbody tr th {\n",
       "        vertical-align: top;\n",
       "    }\n",
       "\n",
       "    .dataframe thead th {\n",
       "        text-align: right;\n",
       "    }\n",
       "</style>\n",
       "<table border=\"1\" class=\"dataframe\">\n",
       "  <thead>\n",
       "    <tr style=\"text-align: right;\">\n",
       "      <th></th>\n",
       "      <th>user_id</th>\n",
       "      <th>first_name</th>\n",
       "      <th>last_name</th>\n",
       "      <th>age</th>\n",
       "      <th>city</th>\n",
       "      <th>reg_date</th>\n",
       "      <th>plan</th>\n",
       "      <th>churn_date</th>\n",
       "      <th>is_active</th>\n",
       "      <th>reg_month</th>\n",
       "    </tr>\n",
       "  </thead>\n",
       "  <tbody>\n",
       "    <tr>\n",
       "      <th>0</th>\n",
       "      <td>1000</td>\n",
       "      <td>Anamaria</td>\n",
       "      <td>Bauer</td>\n",
       "      <td>45</td>\n",
       "      <td>Atlanta-Sandy Springs-Roswell, GA MSA</td>\n",
       "      <td>2018-12-24</td>\n",
       "      <td>ultimate</td>\n",
       "      <td>NaT</td>\n",
       "      <td>True</td>\n",
       "      <td>2018-12</td>\n",
       "    </tr>\n",
       "    <tr>\n",
       "      <th>1</th>\n",
       "      <td>1001</td>\n",
       "      <td>Mickey</td>\n",
       "      <td>Wilkerson</td>\n",
       "      <td>28</td>\n",
       "      <td>Seattle-Tacoma-Bellevue, WA MSA</td>\n",
       "      <td>2018-08-13</td>\n",
       "      <td>surf</td>\n",
       "      <td>NaT</td>\n",
       "      <td>True</td>\n",
       "      <td>2018-08</td>\n",
       "    </tr>\n",
       "    <tr>\n",
       "      <th>2</th>\n",
       "      <td>1002</td>\n",
       "      <td>Carlee</td>\n",
       "      <td>Hoffman</td>\n",
       "      <td>36</td>\n",
       "      <td>Las Vegas-Henderson-Paradise, NV MSA</td>\n",
       "      <td>2018-10-21</td>\n",
       "      <td>surf</td>\n",
       "      <td>NaT</td>\n",
       "      <td>True</td>\n",
       "      <td>2018-10</td>\n",
       "    </tr>\n",
       "    <tr>\n",
       "      <th>3</th>\n",
       "      <td>1003</td>\n",
       "      <td>Reynaldo</td>\n",
       "      <td>Jenkins</td>\n",
       "      <td>52</td>\n",
       "      <td>Tulsa, OK MSA</td>\n",
       "      <td>2018-01-28</td>\n",
       "      <td>surf</td>\n",
       "      <td>NaT</td>\n",
       "      <td>True</td>\n",
       "      <td>2018-01</td>\n",
       "    </tr>\n",
       "    <tr>\n",
       "      <th>4</th>\n",
       "      <td>1004</td>\n",
       "      <td>Leonila</td>\n",
       "      <td>Thompson</td>\n",
       "      <td>40</td>\n",
       "      <td>Seattle-Tacoma-Bellevue, WA MSA</td>\n",
       "      <td>2018-05-23</td>\n",
       "      <td>surf</td>\n",
       "      <td>NaT</td>\n",
       "      <td>True</td>\n",
       "      <td>2018-05</td>\n",
       "    </tr>\n",
       "  </tbody>\n",
       "</table>\n",
       "</div>"
      ],
      "text/plain": [
       "   user_id first_name  last_name  age                                   city  \\\n",
       "0     1000   Anamaria      Bauer   45  Atlanta-Sandy Springs-Roswell, GA MSA   \n",
       "1     1001     Mickey  Wilkerson   28        Seattle-Tacoma-Bellevue, WA MSA   \n",
       "2     1002     Carlee    Hoffman   36   Las Vegas-Henderson-Paradise, NV MSA   \n",
       "3     1003   Reynaldo    Jenkins   52                          Tulsa, OK MSA   \n",
       "4     1004    Leonila   Thompson   40        Seattle-Tacoma-Bellevue, WA MSA   \n",
       "\n",
       "    reg_date      plan churn_date  is_active reg_month  \n",
       "0 2018-12-24  ultimate        NaT       True   2018-12  \n",
       "1 2018-08-13      surf        NaT       True   2018-08  \n",
       "2 2018-10-21      surf        NaT       True   2018-10  \n",
       "3 2018-01-28      surf        NaT       True   2018-01  \n",
       "4 2018-05-23      surf        NaT       True   2018-05  "
      ]
     },
     "execution_count": 51,
     "metadata": {},
     "output_type": "execute_result"
    }
   ],
   "source": [
    "users['is_active'] = users['churn_date'].isna()\n",
    "\n",
    "users['reg_month'] = users['reg_date'].dt.to_period('M')\n",
    "\n",
    "users.head()"
   ]
  },
  {
   "cell_type": "markdown",
   "metadata": {},
   "source": [
    "## Calls"
   ]
  },
  {
   "cell_type": "code",
   "execution_count": 52,
   "metadata": {
    "trusted": true
   },
   "outputs": [
    {
     "name": "stdout",
     "output_type": "stream",
     "text": [
      "<class 'pandas.core.frame.DataFrame'>\n",
      "RangeIndex: 137735 entries, 0 to 137734\n",
      "Data columns (total 5 columns):\n",
      " #   Column     Non-Null Count   Dtype         \n",
      "---  ------     --------------   -----         \n",
      " 0   id         137735 non-null  object        \n",
      " 1   user_id    137735 non-null  int64         \n",
      " 2   call_date  137735 non-null  datetime64[ns]\n",
      " 3   duration   137735 non-null  int64         \n",
      " 4   month      137735 non-null  int64         \n",
      "dtypes: datetime64[ns](1), int64(3), object(1)\n",
      "memory usage: 5.3+ MB\n"
     ]
    }
   ],
   "source": [
    "# Print the general/summary information about the calls' DataFrame\n",
    "calls.info()\n",
    "\n"
   ]
  },
  {
   "cell_type": "code",
   "execution_count": 53,
   "metadata": {
    "trusted": true
   },
   "outputs": [
    {
     "data": {
      "text/html": [
       "<div>\n",
       "<style scoped>\n",
       "    .dataframe tbody tr th:only-of-type {\n",
       "        vertical-align: middle;\n",
       "    }\n",
       "\n",
       "    .dataframe tbody tr th {\n",
       "        vertical-align: top;\n",
       "    }\n",
       "\n",
       "    .dataframe thead th {\n",
       "        text-align: right;\n",
       "    }\n",
       "</style>\n",
       "<table border=\"1\" class=\"dataframe\">\n",
       "  <thead>\n",
       "    <tr style=\"text-align: right;\">\n",
       "      <th></th>\n",
       "      <th>id</th>\n",
       "      <th>user_id</th>\n",
       "      <th>call_date</th>\n",
       "      <th>duration</th>\n",
       "      <th>month</th>\n",
       "    </tr>\n",
       "  </thead>\n",
       "  <tbody>\n",
       "    <tr>\n",
       "      <th>0</th>\n",
       "      <td>1000_93</td>\n",
       "      <td>1000</td>\n",
       "      <td>2018-12-27</td>\n",
       "      <td>9</td>\n",
       "      <td>12</td>\n",
       "    </tr>\n",
       "    <tr>\n",
       "      <th>1</th>\n",
       "      <td>1000_145</td>\n",
       "      <td>1000</td>\n",
       "      <td>2018-12-27</td>\n",
       "      <td>14</td>\n",
       "      <td>12</td>\n",
       "    </tr>\n",
       "    <tr>\n",
       "      <th>2</th>\n",
       "      <td>1000_247</td>\n",
       "      <td>1000</td>\n",
       "      <td>2018-12-27</td>\n",
       "      <td>15</td>\n",
       "      <td>12</td>\n",
       "    </tr>\n",
       "    <tr>\n",
       "      <th>3</th>\n",
       "      <td>1000_309</td>\n",
       "      <td>1000</td>\n",
       "      <td>2018-12-28</td>\n",
       "      <td>6</td>\n",
       "      <td>12</td>\n",
       "    </tr>\n",
       "    <tr>\n",
       "      <th>4</th>\n",
       "      <td>1000_380</td>\n",
       "      <td>1000</td>\n",
       "      <td>2018-12-30</td>\n",
       "      <td>5</td>\n",
       "      <td>12</td>\n",
       "    </tr>\n",
       "  </tbody>\n",
       "</table>\n",
       "</div>"
      ],
      "text/plain": [
       "         id  user_id  call_date  duration  month\n",
       "0   1000_93     1000 2018-12-27         9     12\n",
       "1  1000_145     1000 2018-12-27        14     12\n",
       "2  1000_247     1000 2018-12-27        15     12\n",
       "3  1000_309     1000 2018-12-28         6     12\n",
       "4  1000_380     1000 2018-12-30         5     12"
      ]
     },
     "execution_count": 53,
     "metadata": {},
     "output_type": "execute_result"
    }
   ],
   "source": [
    "# Print a sample of data for calls\n",
    "calls.head()\n",
    "\n"
   ]
  },
  {
   "cell_type": "markdown",
   "metadata": {},
   "source": [
    "[Describe what you see and notice in the general information and the printed data sample for the above price of data. Are there any issues (inappropriate data types, missing data etc) that may need further investigation and changes? How that can be fixed?]"
   ]
  },
  {
   "cell_type": "markdown",
   "metadata": {},
   "source": [
    " "
   ]
  },
  {
   "cell_type": "markdown",
   "metadata": {},
   "source": [
    "### Fix data"
   ]
  },
  {
   "cell_type": "markdown",
   "metadata": {},
   "source": [
    "[Fix obvious issues with the data given the initial observations.]"
   ]
  },
  {
   "cell_type": "code",
   "execution_count": 54,
   "metadata": {
    "trusted": true
   },
   "outputs": [
    {
     "name": "stdout",
     "output_type": "stream",
     "text": [
      "<class 'pandas.core.frame.DataFrame'>\n",
      "RangeIndex: 137735 entries, 0 to 137734\n",
      "Data columns (total 5 columns):\n",
      " #   Column     Non-Null Count   Dtype         \n",
      "---  ------     --------------   -----         \n",
      " 0   id         137735 non-null  object        \n",
      " 1   user_id    137735 non-null  int64         \n",
      " 2   call_date  137735 non-null  datetime64[ns]\n",
      " 3   duration   137735 non-null  int64         \n",
      " 4   month      137735 non-null  int64         \n",
      "dtypes: datetime64[ns](1), int64(3), object(1)\n",
      "memory usage: 5.3+ MB\n"
     ]
    },
    {
     "data": {
      "text/html": [
       "<div>\n",
       "<style scoped>\n",
       "    .dataframe tbody tr th:only-of-type {\n",
       "        vertical-align: middle;\n",
       "    }\n",
       "\n",
       "    .dataframe tbody tr th {\n",
       "        vertical-align: top;\n",
       "    }\n",
       "\n",
       "    .dataframe thead th {\n",
       "        text-align: right;\n",
       "    }\n",
       "</style>\n",
       "<table border=\"1\" class=\"dataframe\">\n",
       "  <thead>\n",
       "    <tr style=\"text-align: right;\">\n",
       "      <th></th>\n",
       "      <th>id</th>\n",
       "      <th>user_id</th>\n",
       "      <th>call_date</th>\n",
       "      <th>duration</th>\n",
       "      <th>month</th>\n",
       "    </tr>\n",
       "  </thead>\n",
       "  <tbody>\n",
       "    <tr>\n",
       "      <th>0</th>\n",
       "      <td>1000_93</td>\n",
       "      <td>1000</td>\n",
       "      <td>2018-12-27</td>\n",
       "      <td>9</td>\n",
       "      <td>12</td>\n",
       "    </tr>\n",
       "    <tr>\n",
       "      <th>1</th>\n",
       "      <td>1000_145</td>\n",
       "      <td>1000</td>\n",
       "      <td>2018-12-27</td>\n",
       "      <td>14</td>\n",
       "      <td>12</td>\n",
       "    </tr>\n",
       "    <tr>\n",
       "      <th>2</th>\n",
       "      <td>1000_247</td>\n",
       "      <td>1000</td>\n",
       "      <td>2018-12-27</td>\n",
       "      <td>15</td>\n",
       "      <td>12</td>\n",
       "    </tr>\n",
       "    <tr>\n",
       "      <th>3</th>\n",
       "      <td>1000_309</td>\n",
       "      <td>1000</td>\n",
       "      <td>2018-12-28</td>\n",
       "      <td>6</td>\n",
       "      <td>12</td>\n",
       "    </tr>\n",
       "    <tr>\n",
       "      <th>4</th>\n",
       "      <td>1000_380</td>\n",
       "      <td>1000</td>\n",
       "      <td>2018-12-30</td>\n",
       "      <td>5</td>\n",
       "      <td>12</td>\n",
       "    </tr>\n",
       "  </tbody>\n",
       "</table>\n",
       "</div>"
      ],
      "text/plain": [
       "         id  user_id  call_date  duration  month\n",
       "0   1000_93     1000 2018-12-27         9     12\n",
       "1  1000_145     1000 2018-12-27        14     12\n",
       "2  1000_247     1000 2018-12-27        15     12\n",
       "3  1000_309     1000 2018-12-28         6     12\n",
       "4  1000_380     1000 2018-12-30         5     12"
      ]
     },
     "execution_count": 54,
     "metadata": {},
     "output_type": "execute_result"
    }
   ],
   "source": [
    "calls['call_date'] = pd.to_datetime(calls['call_date'])\n",
    "\n",
    "# Round duration *up* to the nearest minute (billing rule)\n",
    "calls['duration'] = np.ceil(calls['duration'])\n",
    "\n",
    "# Convert duration to integer type after rounding\n",
    "calls['duration'] = calls['duration'].astype(int)\n",
    "\n",
    "# Confirm changes\n",
    "calls.info()\n",
    "calls.head()"
   ]
  },
  {
   "cell_type": "markdown",
   "metadata": {},
   "source": [
    "### Enrich data"
   ]
  },
  {
   "cell_type": "markdown",
   "metadata": {},
   "source": [
    "[Add additional factors to the data if you believe they might be useful.]"
   ]
  },
  {
   "cell_type": "code",
   "execution_count": 55,
   "metadata": {
    "trusted": true
   },
   "outputs": [
    {
     "data": {
      "text/html": [
       "<div>\n",
       "<style scoped>\n",
       "    .dataframe tbody tr th:only-of-type {\n",
       "        vertical-align: middle;\n",
       "    }\n",
       "\n",
       "    .dataframe tbody tr th {\n",
       "        vertical-align: top;\n",
       "    }\n",
       "\n",
       "    .dataframe thead th {\n",
       "        text-align: right;\n",
       "    }\n",
       "</style>\n",
       "<table border=\"1\" class=\"dataframe\">\n",
       "  <thead>\n",
       "    <tr style=\"text-align: right;\">\n",
       "      <th></th>\n",
       "      <th>id</th>\n",
       "      <th>user_id</th>\n",
       "      <th>call_date</th>\n",
       "      <th>duration</th>\n",
       "      <th>month</th>\n",
       "    </tr>\n",
       "  </thead>\n",
       "  <tbody>\n",
       "    <tr>\n",
       "      <th>0</th>\n",
       "      <td>1000_93</td>\n",
       "      <td>1000</td>\n",
       "      <td>2018-12-27</td>\n",
       "      <td>9</td>\n",
       "      <td>12</td>\n",
       "    </tr>\n",
       "    <tr>\n",
       "      <th>1</th>\n",
       "      <td>1000_145</td>\n",
       "      <td>1000</td>\n",
       "      <td>2018-12-27</td>\n",
       "      <td>14</td>\n",
       "      <td>12</td>\n",
       "    </tr>\n",
       "    <tr>\n",
       "      <th>2</th>\n",
       "      <td>1000_247</td>\n",
       "      <td>1000</td>\n",
       "      <td>2018-12-27</td>\n",
       "      <td>15</td>\n",
       "      <td>12</td>\n",
       "    </tr>\n",
       "    <tr>\n",
       "      <th>3</th>\n",
       "      <td>1000_309</td>\n",
       "      <td>1000</td>\n",
       "      <td>2018-12-28</td>\n",
       "      <td>6</td>\n",
       "      <td>12</td>\n",
       "    </tr>\n",
       "    <tr>\n",
       "      <th>4</th>\n",
       "      <td>1000_380</td>\n",
       "      <td>1000</td>\n",
       "      <td>2018-12-30</td>\n",
       "      <td>5</td>\n",
       "      <td>12</td>\n",
       "    </tr>\n",
       "  </tbody>\n",
       "</table>\n",
       "</div>"
      ],
      "text/plain": [
       "         id  user_id  call_date  duration  month\n",
       "0   1000_93     1000 2018-12-27         9     12\n",
       "1  1000_145     1000 2018-12-27        14     12\n",
       "2  1000_247     1000 2018-12-27        15     12\n",
       "3  1000_309     1000 2018-12-28         6     12\n",
       "4  1000_380     1000 2018-12-30         5     12"
      ]
     },
     "execution_count": 55,
     "metadata": {},
     "output_type": "execute_result"
    }
   ],
   "source": [
    "calls['month'] = calls['call_date'].dt.month\n",
    "\n",
    "# Grouping will be done later, but ensures the month is present\n",
    "calls.head()"
   ]
  },
  {
   "cell_type": "markdown",
   "metadata": {},
   "source": [
    "## Messages"
   ]
  },
  {
   "cell_type": "code",
   "execution_count": 56,
   "metadata": {
    "trusted": true
   },
   "outputs": [
    {
     "name": "stdout",
     "output_type": "stream",
     "text": [
      "<class 'pandas.core.frame.DataFrame'>\n",
      "RangeIndex: 76051 entries, 0 to 76050\n",
      "Data columns (total 4 columns):\n",
      " #   Column        Non-Null Count  Dtype         \n",
      "---  ------        --------------  -----         \n",
      " 0   id            76051 non-null  object        \n",
      " 1   user_id       76051 non-null  int64         \n",
      " 2   message_date  76051 non-null  datetime64[ns]\n",
      " 3   month         76051 non-null  int64         \n",
      "dtypes: datetime64[ns](1), int64(2), object(1)\n",
      "memory usage: 2.3+ MB\n"
     ]
    }
   ],
   "source": [
    "# Print the general/summary information about the messages' DataFrame\n",
    "messages.info()\n",
    "\n"
   ]
  },
  {
   "cell_type": "code",
   "execution_count": 57,
   "metadata": {
    "trusted": true
   },
   "outputs": [
    {
     "data": {
      "text/html": [
       "<div>\n",
       "<style scoped>\n",
       "    .dataframe tbody tr th:only-of-type {\n",
       "        vertical-align: middle;\n",
       "    }\n",
       "\n",
       "    .dataframe tbody tr th {\n",
       "        vertical-align: top;\n",
       "    }\n",
       "\n",
       "    .dataframe thead th {\n",
       "        text-align: right;\n",
       "    }\n",
       "</style>\n",
       "<table border=\"1\" class=\"dataframe\">\n",
       "  <thead>\n",
       "    <tr style=\"text-align: right;\">\n",
       "      <th></th>\n",
       "      <th>id</th>\n",
       "      <th>user_id</th>\n",
       "      <th>message_date</th>\n",
       "      <th>month</th>\n",
       "    </tr>\n",
       "  </thead>\n",
       "  <tbody>\n",
       "    <tr>\n",
       "      <th>0</th>\n",
       "      <td>1000_125</td>\n",
       "      <td>1000</td>\n",
       "      <td>2018-12-27</td>\n",
       "      <td>12</td>\n",
       "    </tr>\n",
       "    <tr>\n",
       "      <th>1</th>\n",
       "      <td>1000_160</td>\n",
       "      <td>1000</td>\n",
       "      <td>2018-12-31</td>\n",
       "      <td>12</td>\n",
       "    </tr>\n",
       "    <tr>\n",
       "      <th>2</th>\n",
       "      <td>1000_223</td>\n",
       "      <td>1000</td>\n",
       "      <td>2018-12-31</td>\n",
       "      <td>12</td>\n",
       "    </tr>\n",
       "    <tr>\n",
       "      <th>3</th>\n",
       "      <td>1000_251</td>\n",
       "      <td>1000</td>\n",
       "      <td>2018-12-27</td>\n",
       "      <td>12</td>\n",
       "    </tr>\n",
       "    <tr>\n",
       "      <th>4</th>\n",
       "      <td>1000_255</td>\n",
       "      <td>1000</td>\n",
       "      <td>2018-12-26</td>\n",
       "      <td>12</td>\n",
       "    </tr>\n",
       "  </tbody>\n",
       "</table>\n",
       "</div>"
      ],
      "text/plain": [
       "         id  user_id message_date  month\n",
       "0  1000_125     1000   2018-12-27     12\n",
       "1  1000_160     1000   2018-12-31     12\n",
       "2  1000_223     1000   2018-12-31     12\n",
       "3  1000_251     1000   2018-12-27     12\n",
       "4  1000_255     1000   2018-12-26     12"
      ]
     },
     "execution_count": 57,
     "metadata": {},
     "output_type": "execute_result"
    }
   ],
   "source": [
    "# Print a sample of data for messages\n",
    "messages.head()\n",
    "\n"
   ]
  },
  {
   "cell_type": "markdown",
   "metadata": {},
   "source": [
    "[Describe what you see and notice in the general information and the printed data sample for the above price of data. Are there any issues (inappropriate data types, missing data etc) that may need further investigation and changes? How that can be fixed?]"
   ]
  },
  {
   "cell_type": "markdown",
   "metadata": {},
   "source": [
    " "
   ]
  },
  {
   "cell_type": "markdown",
   "metadata": {},
   "source": [
    "### Fix data"
   ]
  },
  {
   "cell_type": "markdown",
   "metadata": {},
   "source": [
    "[Fix obvious issues with the data given the initial observations.]"
   ]
  },
  {
   "cell_type": "code",
   "execution_count": 58,
   "metadata": {
    "trusted": true
   },
   "outputs": [
    {
     "name": "stdout",
     "output_type": "stream",
     "text": [
      "<class 'pandas.core.frame.DataFrame'>\n",
      "RangeIndex: 76051 entries, 0 to 76050\n",
      "Data columns (total 4 columns):\n",
      " #   Column        Non-Null Count  Dtype         \n",
      "---  ------        --------------  -----         \n",
      " 0   id            76051 non-null  object        \n",
      " 1   user_id       76051 non-null  int64         \n",
      " 2   message_date  76051 non-null  datetime64[ns]\n",
      " 3   month         76051 non-null  int64         \n",
      "dtypes: datetime64[ns](1), int64(2), object(1)\n",
      "memory usage: 2.3+ MB\n"
     ]
    }
   ],
   "source": [
    "# Convert 'message_date' to datetime\n",
    "messages['message_date'] = pd.to_datetime(messages['message_date'])\n",
    "\n",
    "# Confirming the change\n",
    "messages.info()\n"
   ]
  },
  {
   "cell_type": "markdown",
   "metadata": {},
   "source": [
    "### Enrich data"
   ]
  },
  {
   "cell_type": "markdown",
   "metadata": {},
   "source": [
    "[Add additional factors to the data if you believe they might be useful.]"
   ]
  },
  {
   "cell_type": "code",
   "execution_count": 59,
   "metadata": {
    "trusted": true
   },
   "outputs": [
    {
     "data": {
      "text/html": [
       "<div>\n",
       "<style scoped>\n",
       "    .dataframe tbody tr th:only-of-type {\n",
       "        vertical-align: middle;\n",
       "    }\n",
       "\n",
       "    .dataframe tbody tr th {\n",
       "        vertical-align: top;\n",
       "    }\n",
       "\n",
       "    .dataframe thead th {\n",
       "        text-align: right;\n",
       "    }\n",
       "</style>\n",
       "<table border=\"1\" class=\"dataframe\">\n",
       "  <thead>\n",
       "    <tr style=\"text-align: right;\">\n",
       "      <th></th>\n",
       "      <th>user_id</th>\n",
       "      <th>month</th>\n",
       "      <th>messages_sent</th>\n",
       "    </tr>\n",
       "  </thead>\n",
       "  <tbody>\n",
       "    <tr>\n",
       "      <th>0</th>\n",
       "      <td>1000</td>\n",
       "      <td>12</td>\n",
       "      <td>11</td>\n",
       "    </tr>\n",
       "    <tr>\n",
       "      <th>1</th>\n",
       "      <td>1001</td>\n",
       "      <td>8</td>\n",
       "      <td>30</td>\n",
       "    </tr>\n",
       "    <tr>\n",
       "      <th>2</th>\n",
       "      <td>1001</td>\n",
       "      <td>9</td>\n",
       "      <td>44</td>\n",
       "    </tr>\n",
       "    <tr>\n",
       "      <th>3</th>\n",
       "      <td>1001</td>\n",
       "      <td>10</td>\n",
       "      <td>53</td>\n",
       "    </tr>\n",
       "    <tr>\n",
       "      <th>4</th>\n",
       "      <td>1001</td>\n",
       "      <td>11</td>\n",
       "      <td>36</td>\n",
       "    </tr>\n",
       "  </tbody>\n",
       "</table>\n",
       "</div>"
      ],
      "text/plain": [
       "   user_id  month  messages_sent\n",
       "0     1000     12             11\n",
       "1     1001      8             30\n",
       "2     1001      9             44\n",
       "3     1001     10             53\n",
       "4     1001     11             36"
      ]
     },
     "execution_count": 59,
     "metadata": {},
     "output_type": "execute_result"
    }
   ],
   "source": [
    "messages['month'] = messages['message_date'].dt.month\n",
    "messages['year'] = messages['message_date'].dt.year\n",
    "\n",
    "# Group to see how many messages each user sent per month\n",
    "messages_monthly = messages.groupby(['user_id', 'month'])['id'].count().reset_index()\n",
    "messages_monthly.columns = ['user_id', 'month', 'messages_sent']\n",
    "\n",
    "# Preview the enriched dataset\n",
    "messages_monthly.head()"
   ]
  },
  {
   "cell_type": "markdown",
   "metadata": {},
   "source": [
    "## Internet"
   ]
  },
  {
   "cell_type": "code",
   "execution_count": 60,
   "metadata": {
    "trusted": true
   },
   "outputs": [
    {
     "name": "stdout",
     "output_type": "stream",
     "text": [
      "<class 'pandas.core.frame.DataFrame'>\n",
      "RangeIndex: 104825 entries, 0 to 104824\n",
      "Data columns (total 5 columns):\n",
      " #   Column        Non-Null Count   Dtype         \n",
      "---  ------        --------------   -----         \n",
      " 0   id            104825 non-null  object        \n",
      " 1   user_id       104825 non-null  int64         \n",
      " 2   session_date  104825 non-null  datetime64[ns]\n",
      " 3   mb_used       104825 non-null  float64       \n",
      " 4   month         104825 non-null  int64         \n",
      "dtypes: datetime64[ns](1), float64(1), int64(2), object(1)\n",
      "memory usage: 4.0+ MB\n"
     ]
    }
   ],
   "source": [
    "# Print the general/summary information about the internet DataFrame\n",
    "\n",
    "internet.info()\n"
   ]
  },
  {
   "cell_type": "code",
   "execution_count": 61,
   "metadata": {
    "trusted": true
   },
   "outputs": [
    {
     "data": {
      "text/html": [
       "<div>\n",
       "<style scoped>\n",
       "    .dataframe tbody tr th:only-of-type {\n",
       "        vertical-align: middle;\n",
       "    }\n",
       "\n",
       "    .dataframe tbody tr th {\n",
       "        vertical-align: top;\n",
       "    }\n",
       "\n",
       "    .dataframe thead th {\n",
       "        text-align: right;\n",
       "    }\n",
       "</style>\n",
       "<table border=\"1\" class=\"dataframe\">\n",
       "  <thead>\n",
       "    <tr style=\"text-align: right;\">\n",
       "      <th></th>\n",
       "      <th>id</th>\n",
       "      <th>user_id</th>\n",
       "      <th>session_date</th>\n",
       "      <th>mb_used</th>\n",
       "      <th>month</th>\n",
       "    </tr>\n",
       "  </thead>\n",
       "  <tbody>\n",
       "    <tr>\n",
       "      <th>0</th>\n",
       "      <td>1000_13</td>\n",
       "      <td>1000</td>\n",
       "      <td>2018-12-29</td>\n",
       "      <td>89.86</td>\n",
       "      <td>12</td>\n",
       "    </tr>\n",
       "    <tr>\n",
       "      <th>1</th>\n",
       "      <td>1000_204</td>\n",
       "      <td>1000</td>\n",
       "      <td>2018-12-31</td>\n",
       "      <td>0.00</td>\n",
       "      <td>12</td>\n",
       "    </tr>\n",
       "    <tr>\n",
       "      <th>2</th>\n",
       "      <td>1000_379</td>\n",
       "      <td>1000</td>\n",
       "      <td>2018-12-28</td>\n",
       "      <td>660.40</td>\n",
       "      <td>12</td>\n",
       "    </tr>\n",
       "    <tr>\n",
       "      <th>3</th>\n",
       "      <td>1000_413</td>\n",
       "      <td>1000</td>\n",
       "      <td>2018-12-26</td>\n",
       "      <td>270.99</td>\n",
       "      <td>12</td>\n",
       "    </tr>\n",
       "    <tr>\n",
       "      <th>4</th>\n",
       "      <td>1000_442</td>\n",
       "      <td>1000</td>\n",
       "      <td>2018-12-27</td>\n",
       "      <td>880.22</td>\n",
       "      <td>12</td>\n",
       "    </tr>\n",
       "  </tbody>\n",
       "</table>\n",
       "</div>"
      ],
      "text/plain": [
       "         id  user_id session_date  mb_used  month\n",
       "0   1000_13     1000   2018-12-29    89.86     12\n",
       "1  1000_204     1000   2018-12-31     0.00     12\n",
       "2  1000_379     1000   2018-12-28   660.40     12\n",
       "3  1000_413     1000   2018-12-26   270.99     12\n",
       "4  1000_442     1000   2018-12-27   880.22     12"
      ]
     },
     "execution_count": 61,
     "metadata": {},
     "output_type": "execute_result"
    }
   ],
   "source": [
    "# Print a sample of data for the internet traffic\n",
    "internet.head()\n",
    "\n"
   ]
  },
  {
   "cell_type": "markdown",
   "metadata": {},
   "source": [
    "[Describe what you see and notice in the general information and the printed data sample for the above price of data. Are there any issues (inappropriate data types, missing data etc) that may need further investigation and changes? How that can be fixed?]"
   ]
  },
  {
   "cell_type": "markdown",
   "metadata": {},
   "source": [
    " "
   ]
  },
  {
   "cell_type": "markdown",
   "metadata": {},
   "source": [
    "### Fix data"
   ]
  },
  {
   "cell_type": "markdown",
   "metadata": {},
   "source": [
    "[Fix obvious issues with the data given the initial observations.]"
   ]
  },
  {
   "cell_type": "code",
   "execution_count": 62,
   "metadata": {
    "trusted": true
   },
   "outputs": [
    {
     "name": "stdout",
     "output_type": "stream",
     "text": [
      "<class 'pandas.core.frame.DataFrame'>\n",
      "RangeIndex: 104825 entries, 0 to 104824\n",
      "Data columns (total 5 columns):\n",
      " #   Column        Non-Null Count   Dtype         \n",
      "---  ------        --------------   -----         \n",
      " 0   id            104825 non-null  object        \n",
      " 1   user_id       104825 non-null  int64         \n",
      " 2   session_date  104825 non-null  datetime64[ns]\n",
      " 3   mb_used       104825 non-null  float64       \n",
      " 4   month         104825 non-null  int64         \n",
      "dtypes: datetime64[ns](1), float64(1), int64(2), object(1)\n",
      "memory usage: 4.0+ MB\n"
     ]
    }
   ],
   "source": [
    "internet['session_date'] = pd.to_datetime(internet['session_date'])\n",
    "\n",
    "# Confirm changes\n",
    "internet.info()\n"
   ]
  },
  {
   "cell_type": "markdown",
   "metadata": {},
   "source": [
    "### Enrich data"
   ]
  },
  {
   "cell_type": "markdown",
   "metadata": {},
   "source": [
    "[Add additional factors to the data if you believe they might be useful.]"
   ]
  },
  {
   "cell_type": "code",
   "execution_count": 63,
   "metadata": {
    "trusted": true
   },
   "outputs": [
    {
     "data": {
      "text/html": [
       "<div>\n",
       "<style scoped>\n",
       "    .dataframe tbody tr th:only-of-type {\n",
       "        vertical-align: middle;\n",
       "    }\n",
       "\n",
       "    .dataframe tbody tr th {\n",
       "        vertical-align: top;\n",
       "    }\n",
       "\n",
       "    .dataframe thead th {\n",
       "        text-align: right;\n",
       "    }\n",
       "</style>\n",
       "<table border=\"1\" class=\"dataframe\">\n",
       "  <thead>\n",
       "    <tr style=\"text-align: right;\">\n",
       "      <th></th>\n",
       "      <th>user_id</th>\n",
       "      <th>month</th>\n",
       "      <th>mb_used</th>\n",
       "      <th>gb_used</th>\n",
       "    </tr>\n",
       "  </thead>\n",
       "  <tbody>\n",
       "    <tr>\n",
       "      <th>0</th>\n",
       "      <td>1000</td>\n",
       "      <td>12</td>\n",
       "      <td>1901.47</td>\n",
       "      <td>2</td>\n",
       "    </tr>\n",
       "    <tr>\n",
       "      <th>1</th>\n",
       "      <td>1001</td>\n",
       "      <td>8</td>\n",
       "      <td>6919.15</td>\n",
       "      <td>7</td>\n",
       "    </tr>\n",
       "    <tr>\n",
       "      <th>2</th>\n",
       "      <td>1001</td>\n",
       "      <td>9</td>\n",
       "      <td>13314.82</td>\n",
       "      <td>14</td>\n",
       "    </tr>\n",
       "    <tr>\n",
       "      <th>3</th>\n",
       "      <td>1001</td>\n",
       "      <td>10</td>\n",
       "      <td>22330.49</td>\n",
       "      <td>22</td>\n",
       "    </tr>\n",
       "    <tr>\n",
       "      <th>4</th>\n",
       "      <td>1001</td>\n",
       "      <td>11</td>\n",
       "      <td>18504.30</td>\n",
       "      <td>19</td>\n",
       "    </tr>\n",
       "  </tbody>\n",
       "</table>\n",
       "</div>"
      ],
      "text/plain": [
       "   user_id  month   mb_used  gb_used\n",
       "0     1000     12   1901.47        2\n",
       "1     1001      8   6919.15        7\n",
       "2     1001      9  13314.82       14\n",
       "3     1001     10  22330.49       22\n",
       "4     1001     11  18504.30       19"
      ]
     },
     "execution_count": 63,
     "metadata": {},
     "output_type": "execute_result"
    }
   ],
   "source": [
    "internet['month'] = internet['session_date'].dt.month\n",
    "\n",
    "# Group data by user and month and sum the data used\n",
    "monthly_internet = internet.groupby(['user_id', 'month'])['mb_used'].sum().reset_index()\n",
    "\n",
    "# Convert total MB used to GB (rounded up as per Megaline policy)\n",
    "monthly_internet['gb_used'] = np.ceil(monthly_internet['mb_used'] / 1024).astype(int)\n",
    "\n",
    "# Preview the enriched data\n",
    "monthly_internet.head()\n"
   ]
  },
  {
   "cell_type": "markdown",
   "metadata": {},
   "source": [
    "## Study plan conditions"
   ]
  },
  {
   "cell_type": "markdown",
   "metadata": {},
   "source": [
    "[It is critical to understand how the plans work, how users are charged based on their plan subscription. So, we suggest printing out the plan information to view their conditions once again.]"
   ]
  },
  {
   "cell_type": "code",
   "execution_count": 64,
   "metadata": {
    "trusted": true
   },
   "outputs": [
    {
     "name": "stdout",
     "output_type": "stream",
     "text": [
      "\n",
      "Plan: Surf\n",
      "Monthly Fee: $20\n",
      "Minutes Included: 500\n",
      "Messages Included: 50\n",
      "Data Included Mb: 15360\n",
      "Minute Cost: $0.03\n",
      "Message Cost: $0.03\n",
      "Gb Cost: $10\n",
      "\n",
      "Plan: Ultimate\n",
      "Monthly Fee: $70\n",
      "Minutes Included: 3000\n",
      "Messages Included: 1000\n",
      "Data Included Mb: 30720\n",
      "Minute Cost: $0.01\n",
      "Message Cost: $0.01\n",
      "Gb Cost: $7\n"
     ]
    }
   ],
   "source": [
    "# Print out the plan conditions and make sure they are clear for you\n",
    "plans = {\n",
    "    'surf': {\n",
    "        'monthly_fee': 20,\n",
    "        'minutes_included': 500,\n",
    "        'messages_included': 50,\n",
    "        'data_included_mb': 15360,  # 15 GB\n",
    "        'minute_cost': 0.03,\n",
    "        'message_cost': 0.03,\n",
    "        'gb_cost': 10\n",
    "    },\n",
    "    'ultimate': {\n",
    "        'monthly_fee': 70,\n",
    "        'minutes_included': 3000,\n",
    "        'messages_included': 1000,\n",
    "        'data_included_mb': 30720,  # 30 GB\n",
    "        'minute_cost': 0.01,\n",
    "        'message_cost': 0.01,\n",
    "        'gb_cost': 7\n",
    "    }\n",
    "}\n",
    "\n",
    "# Display the plan details\n",
    "for plan_name, info in plans.items():\n",
    "    print(f\"\\nPlan: {plan_name.title()}\")\n",
    "    for key, value in info.items():\n",
    "        if 'included' in key:\n",
    "            print(f\"{key.replace('_', ' ').title()}: {value}\")\n",
    "        else:\n",
    "            print(f\"{key.replace('_', ' ').title()}: ${value}\")\n",
    "\n"
   ]
  },
  {
   "cell_type": "markdown",
   "metadata": {},
   "source": [
    "## Aggregate data per user\n",
    "\n",
    "[Now, as the data is clean, aggregate data per user per period in order to have just one record per user per period. It should ease the further analysis a lot.]"
   ]
  },
  {
   "cell_type": "code",
   "execution_count": 65,
   "metadata": {
    "trusted": true
   },
   "outputs": [],
   "source": [
    "# Calculate the number of calls made by each user per month. Save the result.\n",
    "calls['month'] = calls['call_date'].dt.month\n",
    "messages['month'] = messages['message_date'].dt.month\n",
    "internet['month'] = internet['session_date'].dt.month\n",
    "\n",
    "calls_per_month = calls.groupby(['user_id', 'month']).agg(\n",
    "    calls_count=('duration', 'count'),\n",
    "    minutes_used=('duration', 'sum')\n",
    ").reset_index()\n",
    "\n"
   ]
  },
  {
   "cell_type": "code",
   "execution_count": 66,
   "metadata": {
    "trusted": true
   },
   "outputs": [
    {
     "name": "stdout",
     "output_type": "stream",
     "text": [
      "   user_id  month  minutes_used\n",
      "0     1000     12           124\n",
      "1     1001      8           182\n",
      "2     1001      9           315\n",
      "3     1001     10           393\n",
      "4     1001     11           426\n"
     ]
    }
   ],
   "source": [
    "# Calculate the amount of minutes spent by each user per month. Save the result.\n",
    "\n",
    "calls['month'] = calls['call_date'].dt.month\n",
    "\n",
    "# Group by user_id and month, then sum the duration\n",
    "minutes_per_month = calls.groupby(['user_id', 'month']).agg(\n",
    "    minutes_used=('duration', 'sum')\n",
    ").reset_index()\n",
    "\n",
    "# Display result (optional)\n",
    "print(minutes_per_month.head())"
   ]
  },
  {
   "cell_type": "code",
   "execution_count": 67,
   "metadata": {
    "trusted": true
   },
   "outputs": [
    {
     "name": "stdout",
     "output_type": "stream",
     "text": [
      "   user_id  month  messages_sent\n",
      "0     1000     12             11\n",
      "1     1001      8             30\n",
      "2     1001      9             44\n",
      "3     1001     10             53\n",
      "4     1001     11             36\n"
     ]
    }
   ],
   "source": [
    "# Calculate the number of messages sent by each user per month. Save the result.\n",
    "\n",
    "messages['month'] = messages['message_date'].dt.month\n",
    "\n",
    "# Group by user_id and month, then count the messages\n",
    "messages_per_month = messages.groupby(['user_id', 'month']).agg(\n",
    "    messages_sent=('id', 'count')\n",
    ").reset_index()\n",
    "\n",
    "# Display result (optional)\n",
    "print(messages_per_month.head())\n"
   ]
  },
  {
   "cell_type": "code",
   "execution_count": 68,
   "metadata": {
    "trusted": true
   },
   "outputs": [
    {
     "name": "stdout",
     "output_type": "stream",
     "text": [
      "   user_id  month   mb_used\n",
      "0     1000     12   1901.47\n",
      "1     1001      8   6919.15\n",
      "2     1001      9  13314.82\n",
      "3     1001     10  22330.49\n",
      "4     1001     11  18504.30\n"
     ]
    }
   ],
   "source": [
    "# Calculate the volume of internet traffic used by each user per month. Save the result.\n",
    "internet['month'] = internet['session_date'].dt.month\n",
    "\n",
    "# Group by user_id and month, then sum the MB used\n",
    "internet_per_month = internet.groupby(['user_id', 'month']).agg(\n",
    "    mb_used=('mb_used', 'sum')\n",
    ").reset_index()\n",
    "\n",
    "# Display result (optional)\n",
    "print(internet_per_month.head())\n"
   ]
  },
  {
   "cell_type": "markdown",
   "metadata": {},
   "source": [
    "[Put the aggregate data together into one DataFrame so that one record in it would represent what an unique user consumed in a given month.]"
   ]
  },
  {
   "cell_type": "code",
   "execution_count": 69,
   "metadata": {
    "trusted": true
   },
   "outputs": [],
   "source": [
    "# Merge the data for calls, minutes, messages, internet based on user_id and month\n",
    "\n",
    "ccalls_messages = pd.merge(calls_per_month, messages_per_month, on=['user_id', 'month'], how='outer')\n",
    "calls_messages_internet = pd.merge(calls_messages, internet_per_month, on=['user_id', 'month'], how='outer')\n",
    "\n",
    "# Merge with user plan information\n",
    "user_usage = pd.merge(calls_messages_internet, users[['user_id', 'plan']], on='user_id', how='left')\n",
    "\n",
    "# Ensure no NaN values before calculating revenue\n",
    "user_usage.fillna(0, inplace=True)"
   ]
  },
  {
   "cell_type": "code",
   "execution_count": 70,
   "metadata": {
    "trusted": true
   },
   "outputs": [
    {
     "name": "stdout",
     "output_type": "stream",
     "text": [
      "   user_id  month      plan  minutes_used  messages_sent   mb_used  \\\n",
      "0     1000     12  ultimate         124.0           11.0   1901.47   \n",
      "1     1001      8      surf         182.0           30.0   6919.15   \n",
      "2     1001      9      surf         315.0           44.0  13314.82   \n",
      "3     1001     10      surf         393.0           53.0  22330.49   \n",
      "4     1001     11      surf         426.0           36.0  18504.30   \n",
      "\n",
      "   monthly_revenue  \n",
      "0            70.00  \n",
      "1            20.00  \n",
      "2            20.00  \n",
      "3         69724.99  \n",
      "4         31463.00  \n"
     ]
    }
   ],
   "source": [
    "# the plan information\n",
    "user_usage['monthly_revenue'] = user_usage.apply(calculate_revenue, axis=1)\n",
    "\n",
    "# View the result\n",
    "print(user_usage[['user_id', 'month', 'plan', 'minutes_used', 'messages_sent', 'mb_used', 'monthly_revenue']].head())"
   ]
  },
  {
   "cell_type": "markdown",
   "metadata": {},
   "source": [
    "[Calculate the monthly revenue from each user (subtract the free package limit from the total number of calls, text messages, and data; multiply the result by the calling plan value; add the monthly charge depending on the calling plan). N.B. This might not be as trivial as just a couple of lines given the plan conditions! So, it's okay to spend some time on it.]"
   ]
  },
  {
   "cell_type": "code",
   "execution_count": 71,
   "metadata": {
    "scrolled": true,
    "trusted": true
   },
   "outputs": [
    {
     "name": "stdout",
     "output_type": "stream",
     "text": [
      "   user_id  month      plan  minutes_used  messages_sent   mb_used  \\\n",
      "0     1000     12  ultimate         124.0           11.0   1901.47   \n",
      "1     1001      8      surf         182.0           30.0   6919.15   \n",
      "2     1001      9      surf         315.0           44.0  13314.82   \n",
      "3     1001     10      surf         393.0           53.0  22330.49   \n",
      "4     1001     11      surf         426.0           36.0  18504.30   \n",
      "\n",
      "   monthly_revenue  \n",
      "0            70.00  \n",
      "1            20.00  \n",
      "2            20.00  \n",
      "3            90.09  \n",
      "4            60.00  \n"
     ]
    }
   ],
   "source": [
    "# Calculate the monthly revenue for each user\n",
    "def calculate_revenue(row):\n",
    "    if row['plan'] == 'surf':\n",
    "        monthly_fee = 20\n",
    "        included_minutes = 500\n",
    "        included_messages = 50\n",
    "        included_mb = 15360  # 15 GB = 15,360 MB\n",
    "        # Calculate overages\n",
    "        extra_minutes = max(0, row['minutes_used'] - included_minutes)\n",
    "        extra_messages = max(0, row['messages_sent'] - included_messages)\n",
    "        extra_mb = max(0, row['mb_used'] - included_mb)\n",
    "        extra_gb = np.ceil(extra_mb / 1024)\n",
    "\n",
    "        # Cost calculation\n",
    "        revenue = (monthly_fee +\n",
    "                   extra_minutes * 0.03 +\n",
    "                   extra_messages * 0.03 +\n",
    "                   extra_gb * 10)\n",
    "    elif row['plan'] == 'ultimate':\n",
    "        monthly_fee = 70\n",
    "        # All usage covered in plan\n",
    "        revenue = monthly_fee\n",
    "    else:\n",
    "        revenue = 0  # fallback for missing/invalid plan\n",
    "    return revenue\n",
    "\n",
    "# Apply the function to compute revenue per row\n",
    "user_usage['monthly_revenue'] = user_usage.apply(calculate_revenue, axis=1)\n",
    "\n",
    "# View a sample of the final DataFrame\n",
    "print(user_usage[['user_id', 'month', 'plan', 'minutes_used', 'messages_sent', 'mb_used', 'monthly_revenue']].head())\n"
   ]
  },
  {
   "cell_type": "markdown",
   "metadata": {},
   "source": [
    "## Study user behaviour"
   ]
  },
  {
   "cell_type": "markdown",
   "metadata": {},
   "source": [
    "[Calculate some useful descriptive statistics for the aggregated and merged data, which typically reveal an overall picture captured by the data. Draw useful plots to help the understanding. Given that the main task is to compare the plans and decide on which one is more profitable, the statistics and the plots should be calculated on a per-plan basis.]\n",
    "\n",
    "[There are relevant hints in the comments for Calls but they are not provided for Messages and Internet though the principle of statistical study is the same for them as for Calls.]"
   ]
  },
  {
   "cell_type": "markdown",
   "metadata": {},
   "source": [
    "### Calls"
   ]
  },
  {
   "cell_type": "code",
   "execution_count": 72,
   "metadata": {
    "trusted": true
   },
   "outputs": [
    {
     "data": {
      "image/png": "[encoded data removed]",
      "text/plain": [
       "<Figure size 1000x600 with 1 Axes>"
      ]
     },
     "metadata": {},
     "output_type": "display_data"
    }
   ],
   "source": [
    "# Compare average duration of calls per each plan per each distinct month. Plot a bar plat to visualize it.\n",
    "import matplotlib.pyplot as plt\n",
    "import seaborn as sns\n",
    "\n",
    "# Group by plan and month, calculate average minutes used\n",
    "avg_minutes = user_usage.groupby(['plan', 'month'])['minutes_used'].mean().reset_index()\n",
    "\n",
    "# Plot bar chart\n",
    "plt.figure(figsize=(10, 6))\n",
    "sns.barplot(data=avg_minutes, x='month', y='minutes_used', hue='plan')\n",
    "plt.title('Average Call Duration per Plan per Month')\n",
    "plt.xlabel('Month')\n",
    "plt.ylabel('Average Minutes Used')\n",
    "plt.legend(title='Plan')\n",
    "plt.grid(True)\n",
    "plt.tight_layout()\n",
    "plt.show()\n",
    "\n",
    "\n"
   ]
  },
  {
   "cell_type": "code",
   "execution_count": 73,
   "metadata": {
    "trusted": true
   },
   "outputs": [
    {
     "data": {
      "image/png": "[encoded data removed]",
      "text/plain": [
       "<Figure size 1000x600 with 1 Axes>"
      ]
     },
     "metadata": {},
     "output_type": "display_data"
    }
   ],
   "source": [
    "# Compare the number of minutes users of each plan require each month. Plot a histogram.\n",
    "\n",
    "plt.figure(figsize=(10, 6))\n",
    "sns.histplot(data=user_usage, x='minutes_used', hue='plan', multiple='stack', bins=20)\n",
    "plt.title('Monthly Minutes Used Distribution by Plan')\n",
    "plt.xlabel('Minutes Used')\n",
    "plt.ylabel('Number of Users')\n",
    "plt.grid(True)\n",
    "plt.tight_layout()\n",
    "plt.show()"
   ]
  },
  {
   "cell_type": "markdown",
   "metadata": {},
   "source": [
    "[Calculate the mean and the variable of the call duration to reason on whether users on the different plans have different behaviours for their calls.]"
   ]
  },
  {
   "cell_type": "code",
   "execution_count": 74,
   "metadata": {
    "trusted": true
   },
   "outputs": [
    {
     "name": "stdout",
     "output_type": "stream",
     "text": [
      "Mean and Variance of Monthly Call Duration per Plan:\n",
      "       plan        mean           var\n",
      "0      surf  428.749523  54968.279461\n",
      "1  ultimate  430.450000  57844.464812\n"
     ]
    }
   ],
   "source": [
    "# Calculate the mean and the variance of the monthly call duration\n",
    "\n",
    "call_stats = user_usage.groupby('plan')['minutes_used'].agg(['mean', 'var']).reset_index()\n",
    "print(\"Mean and Variance of Monthly Call Duration per Plan:\")\n",
    "print(call_stats)"
   ]
  },
  {
   "cell_type": "code",
   "execution_count": 75,
   "metadata": {
    "trusted": true
   },
   "outputs": [
    {
     "data": {
      "image/png": "[encoded data removed]",
      "text/plain": [
       "<Figure size 800x600 with 1 Axes>"
      ]
     },
     "metadata": {},
     "output_type": "display_data"
    }
   ],
   "source": [
    "# Plot a boxplot to visualize the distribution of the monthly call duration\n",
    "\n",
    "plt.figure(figsize=(8, 6))\n",
    "sns.boxplot(data=user_usage, x='plan', y='minutes_used')\n",
    "plt.title('Monthly Call Duration Distribution by Plan')\n",
    "plt.xlabel('Plan')\n",
    "plt.ylabel('Minutes Used')\n",
    "plt.grid(True)\n",
    "plt.tight_layout()\n",
    "plt.show()"
   ]
  },
  {
   "cell_type": "markdown",
   "metadata": {},
   "source": [
    "[Formulate conclusions on how the users behave in terms of calling. Is their behaviour different between the plans?]"
   ]
  },
  {
   "cell_type": "markdown",
   "metadata": {},
   "source": [
    " "
   ]
  },
  {
   "cell_type": "markdown",
   "metadata": {},
   "source": [
    "### Messages"
   ]
  },
  {
   "cell_type": "code",
   "execution_count": 76,
   "metadata": {
    "trusted": true
   },
   "outputs": [
    {
     "data": {
      "image/png": "[encoded data removed]",
      "text/plain": [
       "<Figure size 1000x600 with 1 Axes>"
      ]
     },
     "metadata": {},
     "output_type": "display_data"
    }
   ],
   "source": [
    "# Compare the number of messages users of each plan tend to send each month\n",
    "plt.figure(figsize=(10, 6))\n",
    "sns.histplot(data=user_usage, x='messages_sent', hue='plan', multiple='stack', bins=30)\n",
    "plt.title('Monthly Number of Messages Sent by Plan')\n",
    "plt.xlabel('Messages Sent')\n",
    "plt.ylabel('Number of Users')\n",
    "plt.grid(True)\n",
    "plt.tight_layout()\n",
    "plt.show()\n"
   ]
  },
  {
   "cell_type": "markdown",
   "metadata": {},
   "source": [
    "[Formulate conclusions on how the users behave in terms of messaging. Is their behaviour different between the plans?]"
   ]
  },
  {
   "cell_type": "markdown",
   "metadata": {},
   "source": [
    " "
   ]
  },
  {
   "cell_type": "markdown",
   "metadata": {},
   "source": [
    "### Internet"
   ]
  },
  {
   "cell_type": "code",
   "execution_count": 77,
   "metadata": {
    "trusted": true
   },
   "outputs": [
    {
     "data": {
      "image/png": "[encoded data removed]",
      "text/plain": [
       "<Figure size 1000x600 with 1 Axes>"
      ]
     },
     "metadata": {},
     "output_type": "display_data"
    }
   ],
   "source": [
    "# Compare the amount of internet traffic consumed by users per plan\n",
    "\n",
    "plt.figure(figsize=(10, 6))\n",
    "sns.histplot(data=user_usage, x='mb_used', hue='plan', multiple='stack', bins=30)\n",
    "plt.title('Monthly Internet Traffic Consumption by Plan')\n",
    "plt.xlabel('MB Used')\n",
    "plt.ylabel('Number of Users')\n",
    "plt.grid(True)\n",
    "plt.tight_layout()\n",
    "plt.show()"
   ]
  },
  {
   "cell_type": "code",
   "execution_count": 78,
   "metadata": {
    "trusted": true
   },
   "outputs": [
    {
     "data": {
      "image/png": "[encoded data removed]",
      "text/plain": [
       "<Figure size 800x600 with 1 Axes>"
      ]
     },
     "metadata": {},
     "output_type": "display_data"
    }
   ],
   "source": [
    "plt.figure(figsize=(8, 6))\n",
    "sns.boxplot(data=user_usage, x='plan', y='mb_used')\n",
    "plt.title('Monthly Internet Usage Distribution by Plan')\n",
    "plt.xlabel('Plan')\n",
    "plt.ylabel('MB Used')\n",
    "plt.grid(True)\n",
    "plt.tight_layout()\n",
    "plt.show()"
   ]
  },
  {
   "cell_type": "markdown",
   "metadata": {},
   "source": [
    "Users on the Ultimate plan tend to consume more internet traffic per month than users on the Surf plan. This aligns with the design of the plans:\n",
    "\n",
    "Ultimate plan users likely have a high or unlimited data allowance, which encourages heavier and more relaxed usage, such as video streaming, frequent downloads, or constant browsing without concern for limits.\n",
    "\n",
    "Surf plan users have more limited data, and their usage is generally lower and more consistent, suggesting they are more cautious and aware of potential overage charges.\n",
    "\n"
   ]
  },
  {
   "cell_type": "markdown",
   "metadata": {},
   "source": [
    "Ultimate users show a wider range of internet usage, with some users consuming significantly more than average, indicating greater flexibility in usage habits.\n",
    "\n",
    "Surf users display a more uniform pattern of data consumption, likely due to the constraints of the plan."
   ]
  },
  {
   "cell_type": "markdown",
   "metadata": {},
   "source": [
    "Conclusion: internet usage behavior differs between the plans. Ultimate users are typically heavier and more varied in their usage, while Surf users are more conservative and consistent."
   ]
  },
  {
   "cell_type": "markdown",
   "metadata": {},
   "source": [
    "[Formulate conclusions on how the users tend to consume the internet traffic? Is their behaviour different between the plans?]"
   ]
  },
  {
   "cell_type": "markdown",
   "metadata": {},
   "source": [
    " "
   ]
  },
  {
   "cell_type": "markdown",
   "metadata": {},
   "source": [
    "## Revenue"
   ]
  },
  {
   "cell_type": "markdown",
   "metadata": {},
   "source": [
    "[Likewise you have studied the user behaviour, statistically describe the revenue between the plans.]"
   ]
  },
  {
   "cell_type": "markdown",
   "metadata": {},
   "source": [
    "The revenue generated per user each month differs between the two plans in both structure and variability:\n",
    "\n",
    "Users on the Ultimate plan generate consistent revenue, typically matching the fixed monthly fee of the plan. This is because most of their usage (calls, messages, and internet) falls within the unlimited or high included limits, so they rarely incur overage charges.\n",
    "\n",
    "Users on the Surf plan generate more variable revenue. While their base monthly fee is lower, they often exceed the plan's included limits for calls, messages, or internet. As a result, they frequently incur additional charges, which increases the total revenue from these users."
   ]
  },
  {
   "cell_type": "markdown",
   "metadata": {},
   "source": [
    "Statistical analysis usually shows:\n",
    "\n",
    "The mean revenue per user on the Surf plan is often lower than on the Ultimate plan, but the variance is higher.\n",
    "\n",
    "The Ultimate plan has higher overall average revenue per user when overage usage is minimal or when users need predictable costs.\n",
    "\n",
    "The Surf plan can generate higher individual user revenue when overage usage is significant, but this is less predictable and depends on behavior."
   ]
  },
  {
   "cell_type": "markdown",
   "metadata": {},
   "source": [
    "Conclusion: The Surf plan brings more variability and potential for higher revenue from heavy users but is less predictable. The Ultimate plan delivers more stable, consistent revenue per user. The more profitable plan depends on whether the company prefers steady income or the chance to capitalize on overages."
   ]
  },
  {
   "cell_type": "markdown",
   "metadata": {},
   "source": [
    "[Formulate conclusions about how the revenue differs between the plans.]"
   ]
  },
  {
   "cell_type": "markdown",
   "metadata": {},
   "source": [
    " "
   ]
  },
  {
   "cell_type": "markdown",
   "metadata": {},
   "source": [
    "## Test statistical hypotheses"
   ]
  },
  {
   "cell_type": "markdown",
   "metadata": {},
   "source": [
    "[Test the hypothesis that the average revenue from users of the Ultimate and Surf calling plans differs.]"
   ]
  },
  {
   "cell_type": "markdown",
   "metadata": {},
   "source": [
    "[Formulate the null and the alternative hypotheses, choose the statistical test, decide on the alpha value.]"
   ]
  },
  {
   "cell_type": "code",
   "execution_count": 87,
   "metadata": {
    "trusted": true
   },
   "outputs": [
    {
     "name": "stdout",
     "output_type": "stream",
     "text": [
      "T-statistic: 26.56815012086848\n",
      "P-value: 8.944757785431066e-129\n",
      "Reject the null hypothesis: There is a statistically significant difference in average revenue between the plans.\n"
     ]
    }
   ],
   "source": [
    "# Test the hypotheses\n",
    "def calculate_revenue(row):\n",
    "    # Extract plan information\n",
    "    plan = row['plan']\n",
    "    \n",
    "    # Define the free limits and extra charges based on the plan\n",
    "    if plan == 'surf':\n",
    "        free_calls = 500  # example free calls limit\n",
    "        free_messages = 50  # corrected free messages limit (assuming it's 50, not 300)\n",
    "        free_data = 15360  # corrected free data limit (15 GB = 15360 MB)\n",
    "        charge_per_call = 0.03  # charge per call above limit\n",
    "        charge_per_message = 0.03  # charge per message above limit\n",
    "        charge_per_mb = 10  # charge per GB above limit (1 GB = 1024 MB)\n",
    "        monthly_charge = 20  # fixed monthly charge for 'surf'\n",
    "    elif plan == 'ultimate':\n",
    "        free_calls = 1000\n",
    "        free_messages = 500\n",
    "        free_data = 10000\n",
    "        charge_per_call = 0.08\n",
    "        charge_per_message = 0.04\n",
    "        charge_per_mb = 0.015\n",
    "        monthly_charge = 70  # fixed monthly charge for 'ultimate'\n",
    "        \n",
    "    # Calculate the overage charges\n",
    "    calls_overage = max(0, row['calls_count'] - free_calls) * charge_per_call\n",
    "    messages_overage = max(0, row['messages_sent'] - free_messages) * charge_per_message\n",
    "    data_overage = max(0, row['mb_used'] - free_data) * charge_per_mb\n",
    "\n",
    "    # Calculate the total revenue\n",
    "    total_revenue = calls_overage + messages_overage + data_overage + monthly_charge\n",
    "    return total_revenue\n",
    "\n",
    "# Apply the revenue calculation function to each row in the user_usage DataFrame\n",
    "user_usage['revenue'] = user_usage.apply(calculate_revenue, axis=1)\n",
    "\n",
    "surf_revenue = user_usage[user_usage['plan'] == 'surf']['revenue']\n",
    "ultimate_revenue = user_usage[user_usage['plan'] == 'ultimate']['revenue']\n",
    "\n",
    "# Perform t-test\n",
    "t_stat, p_value = stats.ttest_ind(surf_revenue, ultimate_revenue, equal_var=False)\n",
    "\n",
    "print(\"T-statistic:\", t_stat)\n",
    "print(\"P-value:\", p_value)\n",
    "\n",
    "# Interpret result\n",
    "if p_value < 0.05:\n",
    "    print(\"Reject the null hypothesis: There is a statistically significant difference in average revenue between the plans.\")\n",
    "else:\n",
    "    print(\"Fail to reject the null hypothesis: No statistically significant difference in average revenue.\")"
   ]
  },
  {
   "cell_type": "markdown",
   "metadata": {},
   "source": [
    "[Test the hypothesis that the average revenue from users in the NY-NJ area is different from that of the users from the other regions.]"
   ]
  },
  {
   "cell_type": "markdown",
   "metadata": {},
   "source": [
    "[Formulate the null and the alternative hypotheses, choose the statistical test, decide on the alpha value.]"
   ]
  },
  {
   "cell_type": "code",
   "execution_count": 88,
   "metadata": {
    "scrolled": true,
    "trusted": true
   },
   "outputs": [
    {
     "name": "stdout",
     "output_type": "stream",
     "text": [
      "Index(['user_id', 'first_name', 'last_name', 'age', 'city', 'reg_date', 'plan',\n",
      "       'churn_date', 'is_active', 'reg_month', 'region'],\n",
      "      dtype='object')\n",
      "T-statistic: nan\n",
      "P-value: nan\n",
      "Fail to reject the null hypothesis: No statistically significant difference in average revenue between NY-NJ and other regions.\n"
     ]
    }
   ],
   "source": [
    "import pandas as pd\n",
    "import numpy as np\n",
    "from scipy import stats\n",
    "\n",
    "user_regions = pd.DataFrame({\n",
    "    'user_id': [1000, 1001, 1002, 1003, 1004],\n",
    "    'region': ['NY-NJ', 'Other', 'NY-NJ', 'Other', 'NY-NJ']\n",
    "})\n",
    "\n",
    "print(users.columns)\n",
    "\n",
    "# Merge user_usage with user_regions to include the 'region' column\n",
    "city_to_region = {\n",
    "    'New York': 'NY-NJ',\n",
    "    'New Jersey': 'NY-NJ',\n",
    "    'Los Angeles': 'Other',\n",
    "    'San Francisco': 'Other',\n",
    "}\n",
    "\n",
    "users['region'] = users['city'].map(city_to_region).fillna('Other')  # 'Other' for cities not in the mapping\n",
    "\n",
    "user_usage_with_region = pd.merge(user_usage, users[['user_id', 'region']], on='user_id', how='left')\n",
    "\n",
    "ny_nj_revenue = user_usage_with_region[user_usage_with_region['region'] == 'NY-NJ']['revenue']\n",
    "other_regions_revenue = user_usage_with_region[user_usage_with_region['region'] != 'NY-NJ']['revenue']\n",
    "\n",
    "# the two-sample t-test\n",
    "t_stat, p_value = stats.ttest_ind(ny_nj_revenue, other_regions_revenue, equal_var=False)\n",
    "\n",
    "# Display results\n",
    "print(\"T-statistic:\", t_stat)\n",
    "print(\"P-value:\", p_value)\n",
    "\n",
    "# Step 7: Interpret results\n",
    "if p_value < 0.05:\n",
    "    print(\"Reject the null hypothesis: There is a statistically significant difference in average revenue between NY-NJ and other regions.\")\n",
    "else:\n",
    "    print(\"Fail to reject the null hypothesis: No statistically significant difference in average revenue between NY-NJ and other regions.\")\n"
   ]
  },
  {
   "cell_type": "markdown",
   "metadata": {},
   "source": [
    "## General conclusion\n",
    "\n",
    "[List your important conclusions in this final section, make sure they cover all those important decisions (assumptions) that you've made and that led you to the way you processed and analyzed the data.]\n",
    "\n",
    "\n",
    "In this analysis, several important assumptions were made to process and analyze the data effectively. First, the revenue calculations for each user were based on the assumption that the provided plan limits (such as free minutes, texts, and data) would be subtracted from the total usage, and then the remaining usage would be charged according to the pricing model for each plan. These assumptions were crucial in calculating the revenue generated by users, as the plans have different pricing structures. Additionally, when testing hypotheses regarding revenue differences between regions or plans, the assumption was made that the user data, including revenue and region, were accurate and complete. Any missing or null values were handled by either filling with zeros or excluding incomplete records, depending on the situation. In terms of the hypothesis testing, the assumption was that the data from each region (specifically NY-NJ vs other regions) followed a distribution that would allow for a valid t-test comparison. The results were interpreted based on an alpha value of 0.05, meaning any p-value below this threshold was considered statistically significant. However, it’s important to note that the results of these tests are contingent on the quality and completeness of the data used, and any potential bias in the dataset could impact the conclusions drawn. Furthermore, the analysis assumed that the behavior of users within each region or plan was homogenous, which may not be the case in a real-world scenario with more complex user behavior patterns.\n",
    "\n",
    "\n",
    "\n",
    "\n",
    "\n",
    "\n",
    "\n",
    "\n"
   ]
  },
  {
   "cell_type": "markdown",
   "metadata": {},
   "source": [
    " "
   ]
  }
 ],
 "metadata": {
  "ExecuteTimeLog": [
   {
    "duration": 828,
    "start_time": "2021-11-16T09:21:11.304Z"
   },
   {
    "duration": 893,
    "start_time": "2021-11-16T09:21:17.728Z"
   },
   {
    "duration": 1150,
    "start_time": "2021-11-16T09:21:29.568Z"
   },
   {
    "duration": 3,
    "start_time": "2021-11-16T09:24:14.495Z"
   },
   {
    "duration": 120,
    "start_time": "2021-11-16T09:24:46.630Z"
   },
   {
    "duration": 3,
    "start_time": "2021-11-16T09:28:27.882Z"
   },
   {
    "duration": 4,
    "start_time": "2021-11-16T09:29:54.281Z"
   },
   {
    "duration": 3,
    "start_time": "2021-11-16T09:30:45.936Z"
   },
   {
    "duration": 4,
    "start_time": "2021-11-16T09:31:06.300Z"
   },
   {
    "duration": 113,
    "start_time": "2021-11-16T09:31:37.208Z"
   },
   {
    "duration": 143,
    "start_time": "2021-11-16T09:31:48.656Z"
   },
   {
    "duration": 98,
    "start_time": "2021-11-16T09:31:55.678Z"
   },
   {
    "duration": 3,
    "start_time": "2021-11-16T09:32:08.535Z"
   },
   {
    "duration": 111,
    "start_time": "2021-11-16T09:32:10.120Z"
   },
   {
    "duration": 3,
    "start_time": "2021-11-16T09:32:15.732Z"
   },
   {
    "duration": 4,
    "start_time": "2021-11-16T09:32:29.423Z"
   },
   {
    "duration": 3,
    "start_time": "2021-11-16T10:03:03.074Z"
   },
   {
    "duration": 3,
    "start_time": "2021-11-16T10:10:01.288Z"
   },
   {
    "duration": 3,
    "start_time": "2021-11-16T10:10:46.923Z"
   },
   {
    "duration": 121,
    "start_time": "2021-11-16T10:37:46.494Z"
   },
   {
    "duration": 125,
    "start_time": "2021-11-16T10:38:20.632Z"
   },
   {
    "duration": 112,
    "start_time": "2021-11-16T10:46:53.001Z"
   },
   {
    "duration": 110,
    "start_time": "2021-11-16T10:48:25.775Z"
   },
   {
    "duration": 3,
    "start_time": "2021-11-16T10:50:18.720Z"
   },
   {
    "duration": 4,
    "start_time": "2021-11-16T10:50:37.649Z"
   },
   {
    "duration": 2,
    "start_time": "2021-11-16T10:50:51.884Z"
   },
   {
    "duration": 3,
    "start_time": "2021-11-16T10:51:56.237Z"
   },
   {
    "duration": 101,
    "start_time": "2021-11-16T10:53:13.791Z"
   },
   {
    "duration": 3,
    "start_time": "2021-11-16T10:55:59.186Z"
   },
   {
    "duration": 3,
    "start_time": "2021-11-16T10:56:10.751Z"
   },
   {
    "duration": 3,
    "start_time": "2021-11-16T10:56:49.038Z"
   },
   {
    "duration": 3,
    "start_time": "2021-11-16T10:56:49.174Z"
   },
   {
    "duration": 4,
    "start_time": "2021-11-16T10:56:49.414Z"
   },
   {
    "duration": 3,
    "start_time": "2021-11-16T10:56:49.680Z"
   },
   {
    "duration": 3,
    "start_time": "2021-11-16T10:56:50.370Z"
   },
   {
    "duration": 114,
    "start_time": "2021-11-16T10:59:34.518Z"
   },
   {
    "duration": 3,
    "start_time": "2021-11-16T11:01:41.201Z"
   },
   {
    "duration": 116,
    "start_time": "2021-11-16T11:01:48.754Z"
   },
   {
    "duration": 3,
    "start_time": "2021-11-16T11:02:16.685Z"
   },
   {
    "duration": 3,
    "start_time": "2021-11-16T11:02:19.479Z"
   },
   {
    "duration": 3,
    "start_time": "2021-11-16T11:02:47.067Z"
   },
   {
    "duration": 3,
    "start_time": "2021-11-16T11:02:49.353Z"
   },
   {
    "duration": 3,
    "start_time": "2021-11-16T11:03:07.835Z"
   },
   {
    "duration": 3,
    "start_time": "2021-11-16T11:03:07.953Z"
   },
   {
    "duration": 112,
    "start_time": "2021-11-16T11:07:52.072Z"
   },
   {
    "duration": 187,
    "start_time": "2021-11-16T11:09:23.468Z"
   },
   {
    "duration": 4,
    "start_time": "2021-11-16T11:10:01.455Z"
   },
   {
    "duration": 3,
    "start_time": "2021-11-16T11:10:05.069Z"
   },
   {
    "duration": 4,
    "start_time": "2021-11-16T11:10:13.376Z"
   },
   {
    "duration": 3,
    "start_time": "2021-11-16T11:10:14.434Z"
   },
   {
    "duration": 3,
    "start_time": "2021-11-16T11:10:22.853Z"
   },
   {
    "duration": 4,
    "start_time": "2021-11-16T11:27:29.279Z"
   },
   {
    "duration": 4,
    "start_time": "2021-11-16T11:29:08.919Z"
   },
   {
    "duration": 118,
    "start_time": "2021-11-16T11:29:46.703Z"
   },
   {
    "duration": 437,
    "start_time": "2021-11-16T11:36:02.181Z"
   },
   {
    "duration": 157,
    "start_time": "2021-11-16T11:36:14.388Z"
   },
   {
    "duration": 207,
    "start_time": "2021-11-16T11:47:15.898Z"
   },
   {
    "duration": 3,
    "start_time": "2021-11-16T11:53:52.092Z"
   },
   {
    "duration": 3,
    "start_time": "2021-11-16T11:53:52.236Z"
   },
   {
    "duration": 3,
    "start_time": "2021-11-16T11:59:12.005Z"
   },
   {
    "duration": 112,
    "start_time": "2021-11-16T12:00:33.446Z"
   },
   {
    "duration": 3,
    "start_time": "2021-11-16T12:02:14.453Z"
   },
   {
    "duration": 3,
    "start_time": "2021-11-16T12:02:39.512Z"
   },
   {
    "duration": 106,
    "start_time": "2021-11-16T12:03:03.460Z"
   },
   {
    "duration": 3,
    "start_time": "2021-11-17T20:37:21.139Z"
   },
   {
    "duration": 3,
    "start_time": "2021-11-17T20:37:22.229Z"
   },
   {
    "duration": 3,
    "start_time": "2021-11-17T20:38:38.806Z"
   },
   {
    "duration": 3,
    "start_time": "2021-11-17T20:38:41.958Z"
   },
   {
    "duration": 3,
    "start_time": "2021-11-17T20:43:46.551Z"
   },
   {
    "duration": 4,
    "start_time": "2021-11-17T20:58:21.835Z"
   },
   {
    "duration": 3,
    "start_time": "2021-11-17T20:59:21.872Z"
   },
   {
    "duration": 4,
    "start_time": "2021-11-17T20:59:45.352Z"
   },
   {
    "duration": 4,
    "start_time": "2021-11-17T20:59:49.646Z"
   },
   {
    "duration": 159,
    "start_time": "2021-11-17T21:02:26.949Z"
   },
   {
    "duration": 3,
    "start_time": "2021-11-17T21:03:53.461Z"
   },
   {
    "duration": 3,
    "start_time": "2021-11-17T21:03:53.694Z"
   },
   {
    "duration": 3,
    "start_time": "2021-11-17T21:05:28.145Z"
   },
   {
    "duration": 116,
    "start_time": "2021-11-17T21:05:57.787Z"
   },
   {
    "duration": 3,
    "start_time": "2021-11-17T21:06:37.993Z"
   },
   {
    "duration": 3,
    "start_time": "2021-11-17T21:06:38.261Z"
   },
   {
    "duration": 3,
    "start_time": "2021-11-17T21:11:54.358Z"
   },
   {
    "duration": 3,
    "start_time": "2021-11-17T21:12:43.846Z"
   },
   {
    "duration": 4,
    "start_time": "2021-11-17T21:13:08.773Z"
   },
   {
    "duration": 3,
    "start_time": "2021-11-17T21:14:44.441Z"
   },
   {
    "duration": 3,
    "start_time": "2021-11-17T21:15:42.059Z"
   },
   {
    "duration": 4,
    "start_time": "2021-11-17T21:15:51.995Z"
   },
   {
    "duration": 3,
    "start_time": "2021-11-17T21:15:53.923Z"
   },
   {
    "duration": 3,
    "start_time": "2021-11-17T21:15:55.282Z"
   },
   {
    "duration": 3,
    "start_time": "2021-11-17T21:16:28.492Z"
   },
   {
    "duration": 3,
    "start_time": "2021-11-17T21:16:32.603Z"
   },
   {
    "duration": 3,
    "start_time": "2021-11-17T21:17:06.941Z"
   },
   {
    "duration": 98,
    "start_time": "2021-11-17T21:18:05.733Z"
   },
   {
    "duration": 4,
    "start_time": "2021-11-17T21:21:35.255Z"
   },
   {
    "duration": 3,
    "start_time": "2021-11-17T21:21:37.804Z"
   },
   {
    "duration": 4,
    "start_time": "2021-11-17T21:23:06.071Z"
   },
   {
    "duration": 3,
    "start_time": "2021-11-17T21:23:24.799Z"
   },
   {
    "duration": 3,
    "start_time": "2021-11-17T21:23:32.591Z"
   },
   {
    "duration": 98,
    "start_time": "2021-11-17T21:28:31.559Z"
   },
   {
    "duration": 3,
    "start_time": "2021-11-17T21:28:45.448Z"
   },
   {
    "duration": 3,
    "start_time": "2021-11-17T21:29:17.303Z"
   },
   {
    "duration": 3,
    "start_time": "2021-11-17T21:29:29.617Z"
   },
   {
    "duration": 3,
    "start_time": "2021-11-17T21:29:32.681Z"
   },
   {
    "duration": 3,
    "start_time": "2021-11-17T21:36:11.474Z"
   },
   {
    "duration": 3,
    "start_time": "2021-11-17T21:36:14.791Z"
   },
   {
    "duration": 3,
    "start_time": "2021-11-17T21:36:53.943Z"
   },
   {
    "duration": 3,
    "start_time": "2021-11-17T21:36:56.165Z"
   },
   {
    "duration": 4,
    "start_time": "2021-11-17T21:37:16.590Z"
   },
   {
    "duration": 3,
    "start_time": "2021-11-17T21:37:22.702Z"
   },
   {
    "duration": 4,
    "start_time": "2021-11-17T21:38:03.479Z"
   },
   {
    "duration": 3,
    "start_time": "2021-11-17T21:38:08.601Z"
   },
   {
    "duration": 3,
    "start_time": "2021-11-17T21:38:12.928Z"
   },
   {
    "duration": 3,
    "start_time": "2021-11-17T21:38:48.896Z"
   },
   {
    "duration": 2,
    "start_time": "2021-11-17T21:38:49.171Z"
   },
   {
    "duration": 4,
    "start_time": "2021-11-17T21:39:57.889Z"
   },
   {
    "duration": 3,
    "start_time": "2021-11-17T21:39:58.057Z"
   },
   {
    "duration": 3,
    "start_time": "2021-11-17T21:41:20.108Z"
   },
   {
    "duration": 3,
    "start_time": "2021-11-17T21:41:20.629Z"
   },
   {
    "duration": 3,
    "start_time": "2021-11-17T21:42:49.136Z"
   },
   {
    "duration": 3,
    "start_time": "2021-11-17T21:43:15.137Z"
   },
   {
    "duration": 4,
    "start_time": "2021-11-17T21:43:16.766Z"
   },
   {
    "duration": 4,
    "start_time": "2021-11-17T21:43:31.711Z"
   },
   {
    "duration": 3,
    "start_time": "2021-11-17T21:43:36.312Z"
   },
   {
    "duration": 4,
    "start_time": "2021-11-17T21:45:08.825Z"
   },
   {
    "duration": 4,
    "start_time": "2021-11-17T21:45:10.119Z"
   },
   {
    "duration": 4,
    "start_time": "2021-11-17T21:45:13.748Z"
   },
   {
    "duration": 3,
    "start_time": "2021-11-17T21:45:22.219Z"
   },
   {
    "duration": 3,
    "start_time": "2021-11-17T21:45:33.412Z"
   },
   {
    "duration": 2,
    "start_time": "2021-11-17T21:46:01.885Z"
   },
   {
    "duration": 3,
    "start_time": "2021-11-17T21:46:03.628Z"
   },
   {
    "duration": 107,
    "start_time": "2021-11-17T21:47:32.512Z"
   },
   {
    "duration": 103,
    "start_time": "2021-11-17T21:50:36.243Z"
   },
   {
    "duration": 3,
    "start_time": "2021-11-18T06:28:31.440Z"
   },
   {
    "duration": 3,
    "start_time": "2021-11-18T06:29:00.168Z"
   },
   {
    "duration": 3,
    "start_time": "2021-11-18T06:31:27.008Z"
   },
   {
    "duration": 2,
    "start_time": "2021-11-18T06:35:34.288Z"
   },
   {
    "duration": 2,
    "start_time": "2021-11-18T06:38:04.527Z"
   },
   {
    "duration": 2566,
    "start_time": "2025-04-30T13:03:55.696Z"
   },
   {
    "duration": 621,
    "start_time": "2025-04-30T13:05:46.062Z"
   },
   {
    "duration": 213,
    "start_time": "2025-04-30T13:20:47.563Z"
   },
   {
    "duration": 9,
    "start_time": "2025-04-30T13:22:33.721Z"
   },
   {
    "duration": 10,
    "start_time": "2025-04-30T13:22:52.999Z"
   },
   {
    "duration": 42,
    "start_time": "2025-04-30T13:27:00.017Z"
   },
   {
    "duration": 62,
    "start_time": "2025-04-30T13:30:54.993Z"
   },
   {
    "duration": 9,
    "start_time": "2025-04-30T13:32:02.940Z"
   },
   {
    "duration": 6,
    "start_time": "2025-04-30T13:32:23.557Z"
   },
   {
    "duration": 5,
    "start_time": "2025-04-30T13:33:18.568Z"
   },
   {
    "duration": 5,
    "start_time": "2025-04-30T13:33:23.081Z"
   },
   {
    "duration": 11,
    "start_time": "2025-04-30T13:33:52.828Z"
   },
   {
    "duration": 14,
    "start_time": "2025-04-30T13:35:07.891Z"
   },
   {
    "duration": 7,
    "start_time": "2025-04-30T13:35:23.188Z"
   },
   {
    "duration": 28,
    "start_time": "2025-04-30T13:36:21.420Z"
   },
   {
    "duration": 13,
    "start_time": "2025-04-30T13:36:49.284Z"
   },
   {
    "duration": 12,
    "start_time": "2025-04-30T13:37:54.548Z"
   },
   {
    "duration": 8,
    "start_time": "2025-04-30T13:38:12.045Z"
   },
   {
    "duration": 18,
    "start_time": "2025-04-30T13:51:54.591Z"
   },
   {
    "duration": 19,
    "start_time": "2025-04-30T13:52:16.313Z"
   },
   {
    "duration": 13,
    "start_time": "2025-04-30T14:02:56.237Z"
   },
   {
    "duration": 8,
    "start_time": "2025-04-30T14:03:14.170Z"
   },
   {
    "duration": 20,
    "start_time": "2025-04-30T14:08:35.036Z"
   },
   {
    "duration": 18,
    "start_time": "2025-04-30T14:17:32.422Z"
   },
   {
    "duration": 4,
    "start_time": "2025-04-30T14:31:53.370Z"
   },
   {
    "duration": 28,
    "start_time": "2025-04-30T14:32:59.052Z"
   },
   {
    "duration": 21,
    "start_time": "2025-04-30T14:34:53.738Z"
   },
   {
    "duration": 17,
    "start_time": "2025-04-30T14:49:49.370Z"
   },
   {
    "duration": 17,
    "start_time": "2025-04-30T14:50:23.263Z"
   },
   {
    "duration": 11,
    "start_time": "2025-04-30T14:51:59.128Z"
   },
   {
    "duration": 9,
    "start_time": "2025-04-30T14:52:18.906Z"
   },
   {
    "duration": 558,
    "start_time": "2025-04-30T14:53:18.979Z"
   },
   {
    "duration": 2599,
    "start_time": "2025-04-30T15:24:37.369Z"
   },
   {
    "duration": 208,
    "start_time": "2025-04-30T15:24:39.970Z"
   },
   {
    "duration": 11,
    "start_time": "2025-04-30T15:24:41.223Z"
   },
   {
    "duration": 10,
    "start_time": "2025-04-30T15:24:41.773Z"
   },
   {
    "duration": 40,
    "start_time": "2025-04-30T15:24:46.177Z"
   },
   {
    "duration": 78,
    "start_time": "2025-04-30T15:24:48.177Z"
   },
   {
    "duration": 12,
    "start_time": "2025-04-30T15:24:50.110Z"
   },
   {
    "duration": 6,
    "start_time": "2025-04-30T15:24:50.608Z"
   },
   {
    "duration": 5,
    "start_time": "2025-04-30T15:24:53.308Z"
   },
   {
    "duration": 11,
    "start_time": "2025-04-30T15:24:55.038Z"
   },
   {
    "duration": 12,
    "start_time": "2025-04-30T15:24:57.090Z"
   },
   {
    "duration": 7,
    "start_time": "2025-04-30T15:24:57.774Z"
   },
   {
    "duration": 26,
    "start_time": "2025-04-30T15:25:01.222Z"
   },
   {
    "duration": 14,
    "start_time": "2025-04-30T15:25:03.701Z"
   },
   {
    "duration": 12,
    "start_time": "2025-04-30T15:25:05.368Z"
   },
   {
    "duration": 10,
    "start_time": "2025-04-30T15:25:05.814Z"
   },
   {
    "duration": 24,
    "start_time": "2025-04-30T15:25:08.273Z"
   },
   {
    "duration": 21,
    "start_time": "2025-04-30T15:25:10.636Z"
   },
   {
    "duration": 14,
    "start_time": "2025-04-30T15:25:11.928Z"
   },
   {
    "duration": 7,
    "start_time": "2025-04-30T15:25:12.485Z"
   },
   {
    "duration": 18,
    "start_time": "2025-04-30T15:25:14.857Z"
   },
   {
    "duration": 18,
    "start_time": "2025-04-30T15:25:16.288Z"
   },
   {
    "duration": 6,
    "start_time": "2025-04-30T15:25:18.691Z"
   },
   {
    "duration": 29,
    "start_time": "2025-04-30T15:25:21.987Z"
   },
   {
    "duration": 22,
    "start_time": "2025-04-30T15:25:22.863Z"
   },
   {
    "duration": 18,
    "start_time": "2025-04-30T15:25:23.589Z"
   },
   {
    "duration": 22,
    "start_time": "2025-04-30T15:25:24.365Z"
   },
   {
    "duration": 11,
    "start_time": "2025-04-30T15:25:25.847Z"
   },
   {
    "duration": 10,
    "start_time": "2025-04-30T15:25:26.573Z"
   },
   {
    "duration": 45,
    "start_time": "2025-04-30T15:25:55.152Z"
   },
   {
    "duration": 367,
    "start_time": "2025-04-30T15:29:49.087Z"
   },
   {
    "duration": 344,
    "start_time": "2025-04-30T15:33:48.585Z"
   },
   {
    "duration": 9,
    "start_time": "2025-04-30T15:34:19.429Z"
   },
   {
    "duration": 278,
    "start_time": "2025-04-30T15:34:42.680Z"
   },
   {
    "duration": 330,
    "start_time": "2025-04-30T15:37:38.640Z"
   },
   {
    "duration": 383,
    "start_time": "2025-04-30T15:39:11.866Z"
   },
   {
    "duration": 243,
    "start_time": "2025-04-30T15:39:28.910Z"
   },
   {
    "duration": 6,
    "start_time": "2025-04-30T15:43:37.228Z"
   },
   {
    "duration": 5,
    "start_time": "2025-04-30T15:43:49.401Z"
   },
   {
    "duration": 618,
    "start_time": "2025-04-30T15:46:15.192Z"
   },
   {
    "duration": 36,
    "start_time": "2025-04-30T15:47:39.157Z"
   },
   {
    "duration": 48,
    "start_time": "2025-04-30T15:48:30.286Z"
   },
   {
    "duration": 20,
    "start_time": "2025-04-30T15:49:22.090Z"
   },
   {
    "duration": 42,
    "start_time": "2025-04-30T15:49:38.650Z"
   },
   {
    "duration": 17,
    "start_time": "2025-04-30T15:49:41.903Z"
   },
   {
    "duration": 10,
    "start_time": "2025-04-30T15:50:51.029Z"
   },
   {
    "duration": 12,
    "start_time": "2025-04-30T15:51:08.170Z"
   },
   {
    "duration": 11,
    "start_time": "2025-04-30T15:51:20.441Z"
   },
   {
    "duration": 941,
    "start_time": "2025-04-30T16:42:07.999Z"
   },
   {
    "duration": 216,
    "start_time": "2025-04-30T16:42:08.942Z"
   },
   {
    "duration": 11,
    "start_time": "2025-04-30T16:42:09.160Z"
   },
   {
    "duration": 10,
    "start_time": "2025-04-30T16:42:09.174Z"
   },
   {
    "duration": 60,
    "start_time": "2025-04-30T16:42:09.186Z"
   },
   {
    "duration": 84,
    "start_time": "2025-04-30T16:42:09.249Z"
   },
   {
    "duration": 11,
    "start_time": "2025-04-30T16:42:09.336Z"
   },
   {
    "duration": 7,
    "start_time": "2025-04-30T16:42:09.349Z"
   },
   {
    "duration": 5,
    "start_time": "2025-04-30T16:42:09.358Z"
   },
   {
    "duration": 12,
    "start_time": "2025-04-30T16:42:09.367Z"
   },
   {
    "duration": 12,
    "start_time": "2025-04-30T16:42:09.381Z"
   },
   {
    "duration": 9,
    "start_time": "2025-04-30T16:42:09.425Z"
   },
   {
    "duration": 36,
    "start_time": "2025-04-30T16:42:09.436Z"
   },
   {
    "duration": 14,
    "start_time": "2025-04-30T16:42:09.476Z"
   },
   {
    "duration": 35,
    "start_time": "2025-04-30T16:42:09.491Z"
   },
   {
    "duration": 9,
    "start_time": "2025-04-30T16:42:09.530Z"
   },
   {
    "duration": 93,
    "start_time": "2025-04-30T16:42:09.540Z"
   },
   {
    "duration": 27,
    "start_time": "2025-04-30T16:42:09.636Z"
   },
   {
    "duration": 15,
    "start_time": "2025-04-30T16:42:09.665Z"
   },
   {
    "duration": 11,
    "start_time": "2025-04-30T16:42:09.683Z"
   },
   {
    "duration": 38,
    "start_time": "2025-04-30T16:42:09.696Z"
   },
   {
    "duration": 19,
    "start_time": "2025-04-30T16:42:09.735Z"
   },
   {
    "duration": 4,
    "start_time": "2025-04-30T16:42:09.756Z"
   },
   {
    "duration": 30,
    "start_time": "2025-04-30T16:42:09.762Z"
   },
   {
    "duration": 46,
    "start_time": "2025-04-30T16:42:09.794Z"
   },
   {
    "duration": 18,
    "start_time": "2025-04-30T16:42:09.842Z"
   },
   {
    "duration": 18,
    "start_time": "2025-04-30T16:42:09.862Z"
   },
   {
    "duration": 39,
    "start_time": "2025-04-30T16:42:09.885Z"
   },
   {
    "duration": 12,
    "start_time": "2025-04-30T16:42:09.928Z"
   },
   {
    "duration": 52,
    "start_time": "2025-04-30T16:42:09.943Z"
   },
   {
    "duration": 373,
    "start_time": "2025-04-30T16:42:09.997Z"
   },
   {
    "duration": 362,
    "start_time": "2025-04-30T16:42:10.372Z"
   },
   {
    "duration": 9,
    "start_time": "2025-04-30T16:42:10.736Z"
   },
   {
    "duration": 252,
    "start_time": "2025-04-30T16:42:10.749Z"
   },
   {
    "duration": 386,
    "start_time": "2025-04-30T16:42:11.003Z"
   },
   {
    "duration": 378,
    "start_time": "2025-04-30T16:42:11.390Z"
   },
   {
    "duration": 213,
    "start_time": "2025-04-30T16:42:11.769Z"
   },
   {
    "duration": 6,
    "start_time": "2025-04-30T16:42:11.984Z"
   },
   {
    "duration": 1,
    "start_time": "2025-04-30T16:42:11.991Z"
   },
   {
    "duration": 0,
    "start_time": "2025-04-30T16:42:11.993Z"
   },
   {
    "duration": 0,
    "start_time": "2025-04-30T16:42:11.994Z"
   },
   {
    "duration": 0,
    "start_time": "2025-04-30T16:42:11.995Z"
   },
   {
    "duration": 0,
    "start_time": "2025-04-30T16:42:12.002Z"
   },
   {
    "duration": 0,
    "start_time": "2025-04-30T16:42:12.007Z"
   },
   {
    "duration": 0,
    "start_time": "2025-04-30T16:42:12.025Z"
   },
   {
    "duration": 37,
    "start_time": "2025-04-30T16:43:36.794Z"
   },
   {
    "duration": 10,
    "start_time": "2025-04-30T16:43:36.833Z"
   },
   {
    "duration": 172,
    "start_time": "2025-04-30T17:31:02.213Z"
   },
   {
    "duration": 5,
    "start_time": "2025-04-30T17:31:12.532Z"
   },
   {
    "duration": 13,
    "start_time": "2025-04-30T17:31:17.644Z"
   },
   {
    "duration": 13,
    "start_time": "2025-04-30T17:31:23.046Z"
   },
   {
    "duration": 15,
    "start_time": "2025-04-30T17:31:47.378Z"
   },
   {
    "duration": 2608,
    "start_time": "2025-04-30T17:32:50.226Z"
   },
   {
    "duration": 219,
    "start_time": "2025-04-30T17:32:55.055Z"
   },
   {
    "duration": 9,
    "start_time": "2025-04-30T17:32:57.510Z"
   },
   {
    "duration": 11,
    "start_time": "2025-04-30T17:33:01.327Z"
   },
   {
    "duration": 40,
    "start_time": "2025-04-30T17:33:04.681Z"
   },
   {
    "duration": 55,
    "start_time": "2025-04-30T17:33:07.410Z"
   },
   {
    "duration": 9,
    "start_time": "2025-04-30T17:33:12.127Z"
   },
   {
    "duration": 6,
    "start_time": "2025-04-30T17:33:12.794Z"
   },
   {
    "duration": 5,
    "start_time": "2025-04-30T17:33:18.859Z"
   },
   {
    "duration": 12,
    "start_time": "2025-04-30T17:33:20.881Z"
   },
   {
    "duration": 13,
    "start_time": "2025-04-30T17:33:24.957Z"
   },
   {
    "duration": 7,
    "start_time": "2025-04-30T17:33:25.629Z"
   },
   {
    "duration": 25,
    "start_time": "2025-04-30T17:33:32.268Z"
   },
   {
    "duration": 12,
    "start_time": "2025-04-30T17:33:38.273Z"
   },
   {
    "duration": 11,
    "start_time": "2025-04-30T17:33:39.487Z"
   },
   {
    "duration": 8,
    "start_time": "2025-04-30T17:33:42.773Z"
   },
   {
    "duration": 17,
    "start_time": "2025-04-30T17:33:45.940Z"
   },
   {
    "duration": 20,
    "start_time": "2025-04-30T17:33:50.815Z"
   },
   {
    "duration": 12,
    "start_time": "2025-04-30T17:33:54.897Z"
   },
   {
    "duration": 8,
    "start_time": "2025-04-30T17:33:56.005Z"
   },
   {
    "duration": 18,
    "start_time": "2025-04-30T17:34:01.571Z"
   },
   {
    "duration": 18,
    "start_time": "2025-04-30T17:34:05.858Z"
   },
   {
    "duration": 6,
    "start_time": "2025-04-30T17:34:12.060Z"
   },
   {
    "duration": 28,
    "start_time": "2025-04-30T17:34:18.177Z"
   },
   {
    "duration": 21,
    "start_time": "2025-04-30T17:34:20.030Z"
   },
   {
    "duration": 17,
    "start_time": "2025-04-30T17:34:23.510Z"
   },
   {
    "duration": 17,
    "start_time": "2025-04-30T17:34:26.573Z"
   },
   {
    "duration": 10,
    "start_time": "2025-04-30T17:34:28.539Z"
   },
   {
    "duration": 9,
    "start_time": "2025-04-30T17:34:31.951Z"
   },
   {
    "duration": 377,
    "start_time": "2025-04-30T17:34:37.122Z"
   },
   {
    "duration": 60,
    "start_time": "2025-04-30T17:34:51.336Z"
   },
   {
    "duration": 33,
    "start_time": "2025-04-30T17:37:34.179Z"
   },
   {
    "duration": 13,
    "start_time": "2025-04-30T17:49:48.511Z"
   },
   {
    "duration": 31,
    "start_time": "2025-04-30T17:49:52.742Z"
   },
   {
    "duration": 33,
    "start_time": "2025-04-30T17:57:53.892Z"
   },
   {
    "duration": 126,
    "start_time": "2025-04-30T17:59:02.335Z"
   },
   {
    "duration": 3,
    "start_time": "2025-04-30T17:59:28.738Z"
   },
   {
    "duration": 162,
    "start_time": "2025-04-30T17:59:33.458Z"
   },
   {
    "duration": 8,
    "start_time": "2025-04-30T17:59:36.024Z"
   },
   {
    "duration": 7,
    "start_time": "2025-04-30T17:59:36.805Z"
   },
   {
    "duration": 40,
    "start_time": "2025-04-30T17:59:41.055Z"
   },
   {
    "duration": 57,
    "start_time": "2025-04-30T17:59:43.100Z"
   },
   {
    "duration": 9,
    "start_time": "2025-04-30T17:59:44.255Z"
   },
   {
    "duration": 6,
    "start_time": "2025-04-30T17:59:44.823Z"
   },
   {
    "duration": 4,
    "start_time": "2025-04-30T17:59:47.622Z"
   },
   {
    "duration": 11,
    "start_time": "2025-04-30T17:59:49.382Z"
   },
   {
    "duration": 13,
    "start_time": "2025-04-30T17:59:50.737Z"
   },
   {
    "duration": 6,
    "start_time": "2025-04-30T17:59:51.444Z"
   },
   {
    "duration": 27,
    "start_time": "2025-04-30T17:59:54.553Z"
   },
   {
    "duration": 11,
    "start_time": "2025-04-30T17:59:56.539Z"
   },
   {
    "duration": 10,
    "start_time": "2025-04-30T17:59:57.961Z"
   },
   {
    "duration": 6,
    "start_time": "2025-04-30T17:59:58.464Z"
   },
   {
    "duration": 16,
    "start_time": "2025-04-30T18:00:01.223Z"
   },
   {
    "duration": 19,
    "start_time": "2025-04-30T18:00:03.232Z"
   },
   {
    "duration": 12,
    "start_time": "2025-04-30T18:00:04.553Z"
   },
   {
    "duration": 9,
    "start_time": "2025-04-30T18:00:05.148Z"
   },
   {
    "duration": 18,
    "start_time": "2025-04-30T18:00:08.936Z"
   },
   {
    "duration": 18,
    "start_time": "2025-04-30T18:00:11.021Z"
   },
   {
    "duration": 5,
    "start_time": "2025-04-30T18:00:13.654Z"
   },
   {
    "duration": 28,
    "start_time": "2025-04-30T18:00:15.077Z"
   },
   {
    "duration": 21,
    "start_time": "2025-04-30T18:00:15.859Z"
   },
   {
    "duration": 17,
    "start_time": "2025-04-30T18:00:16.736Z"
   },
   {
    "duration": 17,
    "start_time": "2025-04-30T18:00:17.517Z"
   },
   {
    "duration": 13,
    "start_time": "2025-04-30T18:00:18.956Z"
   },
   {
    "duration": 32,
    "start_time": "2025-04-30T18:00:19.954Z"
   },
   {
    "duration": 34,
    "start_time": "2025-04-30T18:00:21.379Z"
   },
   {
    "duration": 386,
    "start_time": "2025-04-30T18:00:24.027Z"
   },
   {
    "duration": 314,
    "start_time": "2025-04-30T18:00:24.703Z"
   },
   {
    "duration": 7,
    "start_time": "2025-04-30T18:00:27.047Z"
   },
   {
    "duration": 231,
    "start_time": "2025-04-30T18:00:27.757Z"
   },
   {
    "duration": 411,
    "start_time": "2025-04-30T18:00:31.475Z"
   },
   {
    "duration": 353,
    "start_time": "2025-04-30T18:00:34.761Z"
   },
   {
    "duration": 237,
    "start_time": "2025-04-30T18:00:35.963Z"
   },
   {
    "duration": 40,
    "start_time": "2025-04-30T18:00:50.476Z"
   },
   {
    "duration": 34,
    "start_time": "2025-04-30T18:00:54.712Z"
   },
   {
    "duration": 34,
    "start_time": "2025-04-30T18:01:02.523Z"
   },
   {
    "duration": 42,
    "start_time": "2025-04-30T18:03:28.638Z"
   },
   {
    "duration": 33,
    "start_time": "2025-04-30T18:03:35.714Z"
   },
   {
    "duration": 34,
    "start_time": "2025-04-30T18:03:40.933Z"
   },
   {
    "duration": 13,
    "start_time": "2025-04-30T18:09:10.238Z"
   },
   {
    "duration": 12,
    "start_time": "2025-04-30T18:09:55.648Z"
   },
   {
    "duration": 34,
    "start_time": "2025-04-30T18:10:01.303Z"
   },
   {
    "duration": 12,
    "start_time": "2025-04-30T18:10:04.578Z"
   }
  ],
  "kernelspec": {
   "display_name": "Python 3 (ipykernel)",
   "language": "python",
   "name": "python3"
  },
  "language_info": {
   "codemirror_mode": {
    "name": "ipython",
    "version": 3
   },
   "file_extension": ".py",
   "mimetype": "text/x-python",
   "name": "python",
   "nbconvert_exporter": "python",
   "pygments_lexer": "ipython3",
   "version": "3.9.19"
  },
  "toc": {
   "base_numbering": 1,
   "nav_menu": {},
   "number_sections": true,
   "sideBar": true,
   "skip_h1_title": false,
   "title_cell": "Table of Contents",
   "title_sidebar": "Contents",
   "toc_cell": false,
   "toc_position": {
    "height": "calc(100% - 180px)",
    "left": "10px",
    "top": "150px",
    "width": "199.398px"
   },
   "toc_section_display": true,
   "toc_window_display": true
  }
 },
 "nbformat": 4,
 "nbformat_minor": 2
}
